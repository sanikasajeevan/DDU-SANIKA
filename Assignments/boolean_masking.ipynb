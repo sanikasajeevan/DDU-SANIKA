{
 "cells": [
  {
   "cell_type": "markdown",
   "id": "8d008a47",
   "metadata": {},
   "source": [
    "#### boolean masking"
   ]
  },
  {
   "cell_type": "code",
   "execution_count": 1,
   "id": "14230c91",
   "metadata": {},
   "outputs": [],
   "source": [
    "import numpy as np\n",
    "import pandas as pd\n",
    "import warnings \n",
    "warnings.filterwarnings('ignore')"
   ]
  },
  {
   "cell_type": "code",
   "execution_count": 2,
   "id": "bfb45d9e",
   "metadata": {},
   "outputs": [],
   "source": [
    "twopowers_sr=pd.Series([1,2,4,8,16,32,64,128,256,512,1024])"
   ]
  },
  {
   "cell_type": "code",
   "execution_count": 3,
   "id": "81832618",
   "metadata": {},
   "outputs": [],
   "source": [
    "BM=[False,False,False,True,False,True,True,False,True,False,True]"
   ]
  },
  {
   "cell_type": "code",
   "execution_count": 4,
   "id": "0a71318a",
   "metadata": {},
   "outputs": [
    {
     "data": {
      "text/plain": [
       "3        8\n",
       "5       32\n",
       "6       64\n",
       "8      256\n",
       "10    1024\n",
       "dtype: int64"
      ]
     },
     "execution_count": 4,
     "metadata": {},
     "output_type": "execute_result"
    }
   ],
   "source": [
    "twopowers_sr[BM]"
   ]
  },
  {
   "cell_type": "code",
   "execution_count": 5,
   "id": "73a2cb7a",
   "metadata": {},
   "outputs": [
    {
     "data": {
      "text/plain": [
       "9      512\n",
       "10    1024\n",
       "dtype: int64"
      ]
     },
     "execution_count": 5,
     "metadata": {},
     "output_type": "execute_result"
    }
   ],
   "source": [
    "BM=twopowers_sr>=500\n",
    "twopowers_sr[BM]"
   ]
  },
  {
   "cell_type": "code",
   "execution_count": 6,
   "id": "427e1d8b",
   "metadata": {},
   "outputs": [
    {
     "data": {
      "text/plain": [
       "0      1\n",
       "1      2\n",
       "2      4\n",
       "3      8\n",
       "4     16\n",
       "5     32\n",
       "6     64\n",
       "7    128\n",
       "8    256\n",
       "dtype: int64"
      ]
     },
     "execution_count": 6,
     "metadata": {},
     "output_type": "execute_result"
    }
   ],
   "source": [
    "BM=twopowers_sr<500\n",
    "twopowers_sr[BM]"
   ]
  },
  {
   "cell_type": "markdown",
   "id": "e599ad00",
   "metadata": {},
   "source": [
    "### display the count of movies in the release year 2020 for each country"
   ]
  },
  {
   "cell_type": "code",
   "execution_count": 66,
   "id": "3a21603e",
   "metadata": {},
   "outputs": [
    {
     "data": {
      "text/html": [
       "<div>\n",
       "<style scoped>\n",
       "    .dataframe tbody tr th:only-of-type {\n",
       "        vertical-align: middle;\n",
       "    }\n",
       "\n",
       "    .dataframe tbody tr th {\n",
       "        vertical-align: top;\n",
       "    }\n",
       "\n",
       "    .dataframe thead th {\n",
       "        text-align: right;\n",
       "    }\n",
       "</style>\n",
       "<table border=\"1\" class=\"dataframe\">\n",
       "  <thead>\n",
       "    <tr style=\"text-align: right;\">\n",
       "      <th></th>\n",
       "      <th>show_id</th>\n",
       "      <th>type</th>\n",
       "      <th>title</th>\n",
       "      <th>director</th>\n",
       "      <th>cast</th>\n",
       "      <th>country</th>\n",
       "      <th>date_added</th>\n",
       "      <th>release_year</th>\n",
       "      <th>rating</th>\n",
       "      <th>duration</th>\n",
       "      <th>listed_in</th>\n",
       "      <th>description</th>\n",
       "    </tr>\n",
       "  </thead>\n",
       "  <tbody>\n",
       "    <tr>\n",
       "      <th>0</th>\n",
       "      <td>s1</td>\n",
       "      <td>Movie</td>\n",
       "      <td>Dick Johnson Is Dead</td>\n",
       "      <td>Kirsten Johnson</td>\n",
       "      <td>NaN</td>\n",
       "      <td>United States</td>\n",
       "      <td>September 25, 2021</td>\n",
       "      <td>2020</td>\n",
       "      <td>PG-13</td>\n",
       "      <td>90 min</td>\n",
       "      <td>Documentaries</td>\n",
       "      <td>As her father nears the end of his life, filmm...</td>\n",
       "    </tr>\n",
       "    <tr>\n",
       "      <th>1</th>\n",
       "      <td>s2</td>\n",
       "      <td>TV Show</td>\n",
       "      <td>Blood &amp; Water</td>\n",
       "      <td>NaN</td>\n",
       "      <td>Ama Qamata, Khosi Ngema, Gail Mabalane, Thaban...</td>\n",
       "      <td>South Africa</td>\n",
       "      <td>September 24, 2021</td>\n",
       "      <td>2021</td>\n",
       "      <td>TV-MA</td>\n",
       "      <td>2 Seasons</td>\n",
       "      <td>International TV Shows, TV Dramas, TV Mysteries</td>\n",
       "      <td>After crossing paths at a party, a Cape Town t...</td>\n",
       "    </tr>\n",
       "    <tr>\n",
       "      <th>2</th>\n",
       "      <td>s3</td>\n",
       "      <td>TV Show</td>\n",
       "      <td>Ganglands</td>\n",
       "      <td>Julien Leclercq</td>\n",
       "      <td>Sami Bouajila, Tracy Gotoas, Samuel Jouy, Nabi...</td>\n",
       "      <td>NaN</td>\n",
       "      <td>September 24, 2021</td>\n",
       "      <td>2021</td>\n",
       "      <td>TV-MA</td>\n",
       "      <td>1 Season</td>\n",
       "      <td>Crime TV Shows, International TV Shows, TV Act...</td>\n",
       "      <td>To protect his family from a powerful drug lor...</td>\n",
       "    </tr>\n",
       "    <tr>\n",
       "      <th>3</th>\n",
       "      <td>s4</td>\n",
       "      <td>TV Show</td>\n",
       "      <td>Jailbirds New Orleans</td>\n",
       "      <td>NaN</td>\n",
       "      <td>NaN</td>\n",
       "      <td>NaN</td>\n",
       "      <td>September 24, 2021</td>\n",
       "      <td>2021</td>\n",
       "      <td>TV-MA</td>\n",
       "      <td>1 Season</td>\n",
       "      <td>Docuseries, Reality TV</td>\n",
       "      <td>Feuds, flirtations and toilet talk go down amo...</td>\n",
       "    </tr>\n",
       "    <tr>\n",
       "      <th>4</th>\n",
       "      <td>s5</td>\n",
       "      <td>TV Show</td>\n",
       "      <td>Kota Factory</td>\n",
       "      <td>NaN</td>\n",
       "      <td>Mayur More, Jitendra Kumar, Ranjan Raj, Alam K...</td>\n",
       "      <td>India</td>\n",
       "      <td>September 24, 2021</td>\n",
       "      <td>2021</td>\n",
       "      <td>TV-MA</td>\n",
       "      <td>2 Seasons</td>\n",
       "      <td>International TV Shows, Romantic TV Shows, TV ...</td>\n",
       "      <td>In a city of coaching centers known to train I...</td>\n",
       "    </tr>\n",
       "    <tr>\n",
       "      <th>...</th>\n",
       "      <td>...</td>\n",
       "      <td>...</td>\n",
       "      <td>...</td>\n",
       "      <td>...</td>\n",
       "      <td>...</td>\n",
       "      <td>...</td>\n",
       "      <td>...</td>\n",
       "      <td>...</td>\n",
       "      <td>...</td>\n",
       "      <td>...</td>\n",
       "      <td>...</td>\n",
       "      <td>...</td>\n",
       "    </tr>\n",
       "    <tr>\n",
       "      <th>8802</th>\n",
       "      <td>s8803</td>\n",
       "      <td>Movie</td>\n",
       "      <td>Zodiac</td>\n",
       "      <td>David Fincher</td>\n",
       "      <td>Mark Ruffalo, Jake Gyllenhaal, Robert Downey J...</td>\n",
       "      <td>United States</td>\n",
       "      <td>November 20, 2019</td>\n",
       "      <td>2007</td>\n",
       "      <td>R</td>\n",
       "      <td>158 min</td>\n",
       "      <td>Cult Movies, Dramas, Thrillers</td>\n",
       "      <td>A political cartoonist, a crime reporter and a...</td>\n",
       "    </tr>\n",
       "    <tr>\n",
       "      <th>8803</th>\n",
       "      <td>s8804</td>\n",
       "      <td>TV Show</td>\n",
       "      <td>Zombie Dumb</td>\n",
       "      <td>NaN</td>\n",
       "      <td>NaN</td>\n",
       "      <td>NaN</td>\n",
       "      <td>July 1, 2019</td>\n",
       "      <td>2018</td>\n",
       "      <td>TV-Y7</td>\n",
       "      <td>2 Seasons</td>\n",
       "      <td>Kids' TV, Korean TV Shows, TV Comedies</td>\n",
       "      <td>While living alone in a spooky town, a young g...</td>\n",
       "    </tr>\n",
       "    <tr>\n",
       "      <th>8804</th>\n",
       "      <td>s8805</td>\n",
       "      <td>Movie</td>\n",
       "      <td>Zombieland</td>\n",
       "      <td>Ruben Fleischer</td>\n",
       "      <td>Jesse Eisenberg, Woody Harrelson, Emma Stone, ...</td>\n",
       "      <td>United States</td>\n",
       "      <td>November 1, 2019</td>\n",
       "      <td>2009</td>\n",
       "      <td>R</td>\n",
       "      <td>88 min</td>\n",
       "      <td>Comedies, Horror Movies</td>\n",
       "      <td>Looking to survive in a world taken over by zo...</td>\n",
       "    </tr>\n",
       "    <tr>\n",
       "      <th>8805</th>\n",
       "      <td>s8806</td>\n",
       "      <td>Movie</td>\n",
       "      <td>Zoom</td>\n",
       "      <td>Peter Hewitt</td>\n",
       "      <td>Tim Allen, Courteney Cox, Chevy Chase, Kate Ma...</td>\n",
       "      <td>United States</td>\n",
       "      <td>January 11, 2020</td>\n",
       "      <td>2006</td>\n",
       "      <td>PG</td>\n",
       "      <td>88 min</td>\n",
       "      <td>Children &amp; Family Movies, Comedies</td>\n",
       "      <td>Dragged from civilian life, a former superhero...</td>\n",
       "    </tr>\n",
       "    <tr>\n",
       "      <th>8806</th>\n",
       "      <td>s8807</td>\n",
       "      <td>Movie</td>\n",
       "      <td>Zubaan</td>\n",
       "      <td>Mozez Singh</td>\n",
       "      <td>Vicky Kaushal, Sarah-Jane Dias, Raaghav Chanan...</td>\n",
       "      <td>India</td>\n",
       "      <td>March 2, 2019</td>\n",
       "      <td>2015</td>\n",
       "      <td>TV-14</td>\n",
       "      <td>111 min</td>\n",
       "      <td>Dramas, International Movies, Music &amp; Musicals</td>\n",
       "      <td>A scrappy but poor boy worms his way into a ty...</td>\n",
       "    </tr>\n",
       "  </tbody>\n",
       "</table>\n",
       "<p>8807 rows × 12 columns</p>\n",
       "</div>"
      ],
      "text/plain": [
       "     show_id     type                  title         director  \\\n",
       "0         s1    Movie   Dick Johnson Is Dead  Kirsten Johnson   \n",
       "1         s2  TV Show          Blood & Water              NaN   \n",
       "2         s3  TV Show              Ganglands  Julien Leclercq   \n",
       "3         s4  TV Show  Jailbirds New Orleans              NaN   \n",
       "4         s5  TV Show           Kota Factory              NaN   \n",
       "...      ...      ...                    ...              ...   \n",
       "8802   s8803    Movie                 Zodiac    David Fincher   \n",
       "8803   s8804  TV Show            Zombie Dumb              NaN   \n",
       "8804   s8805    Movie             Zombieland  Ruben Fleischer   \n",
       "8805   s8806    Movie                   Zoom     Peter Hewitt   \n",
       "8806   s8807    Movie                 Zubaan      Mozez Singh   \n",
       "\n",
       "                                                   cast        country  \\\n",
       "0                                                   NaN  United States   \n",
       "1     Ama Qamata, Khosi Ngema, Gail Mabalane, Thaban...   South Africa   \n",
       "2     Sami Bouajila, Tracy Gotoas, Samuel Jouy, Nabi...            NaN   \n",
       "3                                                   NaN            NaN   \n",
       "4     Mayur More, Jitendra Kumar, Ranjan Raj, Alam K...          India   \n",
       "...                                                 ...            ...   \n",
       "8802  Mark Ruffalo, Jake Gyllenhaal, Robert Downey J...  United States   \n",
       "8803                                                NaN            NaN   \n",
       "8804  Jesse Eisenberg, Woody Harrelson, Emma Stone, ...  United States   \n",
       "8805  Tim Allen, Courteney Cox, Chevy Chase, Kate Ma...  United States   \n",
       "8806  Vicky Kaushal, Sarah-Jane Dias, Raaghav Chanan...          India   \n",
       "\n",
       "              date_added  release_year rating   duration  \\\n",
       "0     September 25, 2021          2020  PG-13     90 min   \n",
       "1     September 24, 2021          2021  TV-MA  2 Seasons   \n",
       "2     September 24, 2021          2021  TV-MA   1 Season   \n",
       "3     September 24, 2021          2021  TV-MA   1 Season   \n",
       "4     September 24, 2021          2021  TV-MA  2 Seasons   \n",
       "...                  ...           ...    ...        ...   \n",
       "8802   November 20, 2019          2007      R    158 min   \n",
       "8803        July 1, 2019          2018  TV-Y7  2 Seasons   \n",
       "8804    November 1, 2019          2009      R     88 min   \n",
       "8805    January 11, 2020          2006     PG     88 min   \n",
       "8806       March 2, 2019          2015  TV-14    111 min   \n",
       "\n",
       "                                              listed_in  \\\n",
       "0                                         Documentaries   \n",
       "1       International TV Shows, TV Dramas, TV Mysteries   \n",
       "2     Crime TV Shows, International TV Shows, TV Act...   \n",
       "3                                Docuseries, Reality TV   \n",
       "4     International TV Shows, Romantic TV Shows, TV ...   \n",
       "...                                                 ...   \n",
       "8802                     Cult Movies, Dramas, Thrillers   \n",
       "8803             Kids' TV, Korean TV Shows, TV Comedies   \n",
       "8804                            Comedies, Horror Movies   \n",
       "8805                 Children & Family Movies, Comedies   \n",
       "8806     Dramas, International Movies, Music & Musicals   \n",
       "\n",
       "                                            description  \n",
       "0     As her father nears the end of his life, filmm...  \n",
       "1     After crossing paths at a party, a Cape Town t...  \n",
       "2     To protect his family from a powerful drug lor...  \n",
       "3     Feuds, flirtations and toilet talk go down amo...  \n",
       "4     In a city of coaching centers known to train I...  \n",
       "...                                                 ...  \n",
       "8802  A political cartoonist, a crime reporter and a...  \n",
       "8803  While living alone in a spooky town, a young g...  \n",
       "8804  Looking to survive in a world taken over by zo...  \n",
       "8805  Dragged from civilian life, a former superhero...  \n",
       "8806  A scrappy but poor boy worms his way into a ty...  \n",
       "\n",
       "[8807 rows x 12 columns]"
      ]
     },
     "execution_count": 66,
     "metadata": {},
     "output_type": "execute_result"
    }
   ],
   "source": [
    "df=pd.read_csv(\"netflix_titles_2021.csv\")\n",
    "df"
   ]
  },
  {
   "cell_type": "code",
   "execution_count": 67,
   "id": "d3e0d588",
   "metadata": {},
   "outputs": [],
   "source": [
    "BM=df.release_year==2020 "
   ]
  },
  {
   "cell_type": "code",
   "execution_count": 11,
   "id": "74520a37",
   "metadata": {},
   "outputs": [
    {
     "data": {
      "text/plain": [
       "United States                             336\n",
       "India                                      75\n",
       "United Kingdom                             44\n",
       "South Korea                                28\n",
       "Canada                                     26\n",
       "                                         ... \n",
       "Germany, Czech Republic                     1\n",
       "United States, Bulgaria                     1\n",
       "United Kingdom, France, Germany, Spain      1\n",
       "Thailand, United States                     1\n",
       "United States, South Korea, China           1\n",
       "Name: country, Length: 107, dtype: int64"
      ]
     },
     "execution_count": 11,
     "metadata": {},
     "output_type": "execute_result"
    }
   ],
   "source": [
    "df[BM].country.value_counts()"
   ]
  },
  {
   "cell_type": "markdown",
   "id": "67019ed0",
   "metadata": {},
   "source": [
    "### Count of tv shows in each country"
   ]
  },
  {
   "cell_type": "code",
   "execution_count": 13,
   "id": "989bf0d9",
   "metadata": {},
   "outputs": [],
   "source": [
    "BM=df.type==\"TV Show\""
   ]
  },
  {
   "cell_type": "code",
   "execution_count": 14,
   "id": "d26af49f",
   "metadata": {},
   "outputs": [
    {
     "data": {
      "text/plain": [
       "United States                                    760\n",
       "United Kingdom                                   213\n",
       "Japan                                            169\n",
       "South Korea                                      158\n",
       "India                                             79\n",
       "                                                ... \n",
       "Belarus                                            1\n",
       "United Kingdom, Australia                          1\n",
       "France, Australia, Germany                         1\n",
       "Australia, New Zealand, United States              1\n",
       "United States, France, South Korea, Indonesia      1\n",
       "Name: country, Length: 196, dtype: int64"
      ]
     },
     "execution_count": 14,
     "metadata": {},
     "output_type": "execute_result"
    }
   ],
   "source": [
    "df[BM].country.value_counts()"
   ]
  },
  {
   "cell_type": "markdown",
   "id": "acd2779c",
   "metadata": {},
   "source": [
    "### Rating=PG-13 each year count"
   ]
  },
  {
   "cell_type": "code",
   "execution_count": 17,
   "id": "e8c58d27",
   "metadata": {},
   "outputs": [],
   "source": [
    "BM=df.rating==\"PG-13\""
   ]
  },
  {
   "cell_type": "code",
   "execution_count": 18,
   "id": "38af22d9",
   "metadata": {},
   "outputs": [
    {
     "data": {
      "text/plain": [
       "2016    34\n",
       "2017    32\n",
       "2018    30\n",
       "2010    26\n",
       "2015    25\n",
       "2009    25\n",
       "2008    24\n",
       "2011    23\n",
       "2020    21\n",
       "2014    19\n",
       "2012    19\n",
       "2019    19\n",
       "2005    16\n",
       "2013    15\n",
       "2007    15\n",
       "2006    15\n",
       "2002    14\n",
       "2021    14\n",
       "2000    10\n",
       "2003    10\n",
       "1995    10\n",
       "1997     9\n",
       "2001     8\n",
       "1999     8\n",
       "2004     7\n",
       "1998     7\n",
       "1996     6\n",
       "1994     4\n",
       "1993     4\n",
       "1990     4\n",
       "1988     3\n",
       "1986     2\n",
       "1989     2\n",
       "1987     2\n",
       "1991     2\n",
       "1979     1\n",
       "1992     1\n",
       "1965     1\n",
       "1968     1\n",
       "1955     1\n",
       "1984     1\n",
       "Name: release_year, dtype: int64"
      ]
     },
     "execution_count": 18,
     "metadata": {},
     "output_type": "execute_result"
    }
   ],
   "source": [
    "df[BM].release_year.value_counts()"
   ]
  },
  {
   "cell_type": "markdown",
   "id": "4f3eae50",
   "metadata": {},
   "source": [
    "### Rating=TV-MA in each year count"
   ]
  },
  {
   "cell_type": "code",
   "execution_count": 70,
   "id": "7fef5fa1",
   "metadata": {},
   "outputs": [],
   "source": [
    "BM=df.rating==\"TV-MA\""
   ]
  },
  {
   "cell_type": "code",
   "execution_count": 71,
   "id": "3cb13de4",
   "metadata": {},
   "outputs": [
    {
     "data": {
      "text/plain": [
       "2018    549\n",
       "2019    500\n",
       "2020    469\n",
       "2017    451\n",
       "2016    341\n",
       "2021    270\n",
       "2015    184\n",
       "2014     79\n",
       "2013     64\n",
       "2012     54\n",
       "2010     42\n",
       "2011     27\n",
       "2008     25\n",
       "2009     18\n",
       "2006     17\n",
       "2007     17\n",
       "2004     10\n",
       "2003      8\n",
       "2005      8\n",
       "1998      7\n",
       "2002      7\n",
       "1999      5\n",
       "1991      5\n",
       "1983      4\n",
       "1993      4\n",
       "1990      3\n",
       "1992      3\n",
       "1997      3\n",
       "1985      3\n",
       "1989      2\n",
       "1978      2\n",
       "1975      2\n",
       "1945      2\n",
       "1979      2\n",
       "2001      2\n",
       "1972      2\n",
       "1982      2\n",
       "1984      1\n",
       "1973      1\n",
       "1986      1\n",
       "1981      1\n",
       "1988      1\n",
       "1970      1\n",
       "1994      1\n",
       "1977      1\n",
       "2000      1\n",
       "1987      1\n",
       "1995      1\n",
       "1963      1\n",
       "1976      1\n",
       "1967      1\n",
       "Name: release_year, dtype: int64"
      ]
     },
     "execution_count": 71,
     "metadata": {},
     "output_type": "execute_result"
    }
   ],
   "source": [
    "df[BM].release_year.value_counts()"
   ]
  },
  {
   "cell_type": "markdown",
   "id": "5586e484",
   "metadata": {},
   "source": [
    "### Rating=R in each year count"
   ]
  },
  {
   "cell_type": "code",
   "execution_count": 22,
   "id": "8c61e47c",
   "metadata": {},
   "outputs": [],
   "source": [
    "BM=df.rating==\"R\""
   ]
  },
  {
   "cell_type": "code",
   "execution_count": 23,
   "id": "092b660f",
   "metadata": {},
   "outputs": [
    {
     "data": {
      "text/plain": [
       "2016    86\n",
       "2017    73\n",
       "2015    67\n",
       "2018    52\n",
       "2014    49\n",
       "2020    48\n",
       "2013    41\n",
       "2019    39\n",
       "2012    29\n",
       "2010    26\n",
       "2009    25\n",
       "2021    21\n",
       "2011    20\n",
       "2008    19\n",
       "2003    16\n",
       "1997    16\n",
       "2001    14\n",
       "2007    14\n",
       "2002    12\n",
       "2006    12\n",
       "1992    11\n",
       "1999    10\n",
       "2005    10\n",
       "1996     9\n",
       "1998     9\n",
       "2000     8\n",
       "2004     7\n",
       "1993     6\n",
       "1988     5\n",
       "1980     5\n",
       "1990     4\n",
       "1995     4\n",
       "1994     4\n",
       "1973     3\n",
       "1982     3\n",
       "1986     2\n",
       "1967     2\n",
       "1979     2\n",
       "1974     2\n",
       "1987     2\n",
       "1981     2\n",
       "1991     2\n",
       "1971     1\n",
       "1976     1\n",
       "1989     1\n",
       "1962     1\n",
       "1968     1\n",
       "1972     1\n",
       "1978     1\n",
       "1984     1\n",
       "Name: release_year, dtype: int64"
      ]
     },
     "execution_count": 23,
     "metadata": {},
     "output_type": "execute_result"
    }
   ],
   "source": [
    "df[BM].release_year.value_counts()"
   ]
  },
  {
   "cell_type": "markdown",
   "id": "8f77fbbd",
   "metadata": {},
   "source": [
    "### Rating=PG "
   ]
  },
  {
   "cell_type": "code",
   "execution_count": 24,
   "id": "e4bc8729",
   "metadata": {},
   "outputs": [],
   "source": [
    "BM=df.rating==\"PG\""
   ]
  },
  {
   "cell_type": "code",
   "execution_count": 25,
   "id": "1af8dafd",
   "metadata": {},
   "outputs": [
    {
     "data": {
      "text/plain": [
       "2018    31\n",
       "2011    18\n",
       "2014    15\n",
       "2017    15\n",
       "2020    15\n",
       "2013    14\n",
       "2016    14\n",
       "2019    12\n",
       "2021    11\n",
       "2015    11\n",
       "2007    10\n",
       "2008    10\n",
       "2009    10\n",
       "2010     8\n",
       "2006     8\n",
       "2004     8\n",
       "2012     7\n",
       "2005     5\n",
       "2001     5\n",
       "2003     5\n",
       "2002     4\n",
       "1976     4\n",
       "1984     4\n",
       "2000     4\n",
       "1993     4\n",
       "1989     3\n",
       "1994     3\n",
       "1992     3\n",
       "1981     2\n",
       "1975     2\n",
       "1982     2\n",
       "1995     2\n",
       "1978     2\n",
       "1977     2\n",
       "1986     2\n",
       "1999     2\n",
       "1983     1\n",
       "1974     1\n",
       "1973     1\n",
       "1997     1\n",
       "1980     1\n",
       "1979     1\n",
       "1985     1\n",
       "1991     1\n",
       "1990     1\n",
       "1996     1\n",
       "Name: release_year, dtype: int64"
      ]
     },
     "execution_count": 25,
     "metadata": {},
     "output_type": "execute_result"
    }
   ],
   "source": [
    "df[BM].release_year.value_counts()"
   ]
  },
  {
   "cell_type": "markdown",
   "id": "5d58618e",
   "metadata": {},
   "source": [
    "### Rating=TV-Y7"
   ]
  },
  {
   "cell_type": "code",
   "execution_count": 26,
   "id": "4f39d3d5",
   "metadata": {},
   "outputs": [],
   "source": [
    "BM=df.rating==\"TV-Y7\""
   ]
  },
  {
   "cell_type": "code",
   "execution_count": 27,
   "id": "f4b70523",
   "metadata": {},
   "outputs": [
    {
     "data": {
      "text/plain": [
       "2020    41\n",
       "2018    40\n",
       "2017    37\n",
       "2019    36\n",
       "2021    33\n",
       "2016    33\n",
       "2013    20\n",
       "2012    15\n",
       "2015    14\n",
       "2014    12\n",
       "2011    11\n",
       "2010     8\n",
       "2009     5\n",
       "2008     4\n",
       "2005     3\n",
       "2007     3\n",
       "2003     2\n",
       "1999     2\n",
       "2001     2\n",
       "2000     2\n",
       "2006     2\n",
       "1996     2\n",
       "2002     1\n",
       "1997     1\n",
       "1993     1\n",
       "1998     1\n",
       "2004     1\n",
       "1981     1\n",
       "1989     1\n",
       "Name: release_year, dtype: int64"
      ]
     },
     "execution_count": 27,
     "metadata": {},
     "output_type": "execute_result"
    }
   ],
   "source": [
    "df[BM].release_year.value_counts()"
   ]
  },
  {
   "cell_type": "markdown",
   "id": "d6aaa441",
   "metadata": {},
   "source": [
    "### Number of shows in India"
   ]
  },
  {
   "cell_type": "code",
   "execution_count": 34,
   "id": "fce20236",
   "metadata": {},
   "outputs": [],
   "source": [
    "BM=df.country==\"India\""
   ]
  },
  {
   "cell_type": "code",
   "execution_count": 35,
   "id": "4e474ef7",
   "metadata": {},
   "outputs": [
    {
     "data": {
      "text/plain": [
       "Movie      893\n",
       "TV Show     79\n",
       "Name: type, dtype: int64"
      ]
     },
     "execution_count": 35,
     "metadata": {},
     "output_type": "execute_result"
    }
   ],
   "source": [
    "df[BM].type.value_counts()"
   ]
  },
  {
   "cell_type": "markdown",
   "id": "3c166b85",
   "metadata": {},
   "source": [
    "### Number of shows in United States"
   ]
  },
  {
   "cell_type": "code",
   "execution_count": 36,
   "id": "cc4c82dc",
   "metadata": {},
   "outputs": [],
   "source": [
    "BM=df.country==\"United States\""
   ]
  },
  {
   "cell_type": "code",
   "execution_count": 37,
   "id": "63982092",
   "metadata": {},
   "outputs": [
    {
     "data": {
      "text/plain": [
       "Movie      2058\n",
       "TV Show     760\n",
       "Name: type, dtype: int64"
      ]
     },
     "execution_count": 37,
     "metadata": {},
     "output_type": "execute_result"
    }
   ],
   "source": [
    "df[BM].type.value_counts()"
   ]
  },
  {
   "cell_type": "markdown",
   "id": "86941554",
   "metadata": {},
   "source": [
    "### Number of shows in South Africa"
   ]
  },
  {
   "cell_type": "code",
   "execution_count": 38,
   "id": "fdb502fe",
   "metadata": {},
   "outputs": [],
   "source": [
    "BM=df.country==\"South Africa\""
   ]
  },
  {
   "cell_type": "code",
   "execution_count": 39,
   "id": "176e013a",
   "metadata": {},
   "outputs": [
    {
     "data": {
      "text/plain": [
       "Movie      24\n",
       "TV Show     6\n",
       "Name: type, dtype: int64"
      ]
     },
     "execution_count": 39,
     "metadata": {},
     "output_type": "execute_result"
    }
   ],
   "source": [
    "df[BM].type.value_counts()"
   ]
  },
  {
   "cell_type": "markdown",
   "id": "cee1027b",
   "metadata": {},
   "source": [
    "### Number of shows in United Kingdom "
   ]
  },
  {
   "cell_type": "code",
   "execution_count": 40,
   "id": "19150126",
   "metadata": {},
   "outputs": [],
   "source": [
    "BM=df.country==\"United Kingdom\""
   ]
  },
  {
   "cell_type": "code",
   "execution_count": 41,
   "id": "bf12af44",
   "metadata": {},
   "outputs": [
    {
     "data": {
      "text/plain": [
       "TV Show    213\n",
       "Movie      206\n",
       "Name: type, dtype: int64"
      ]
     },
     "execution_count": 41,
     "metadata": {},
     "output_type": "execute_result"
    }
   ],
   "source": [
    "df[BM].type.value_counts()"
   ]
  },
  {
   "cell_type": "markdown",
   "id": "80830a71",
   "metadata": {},
   "source": [
    "### Number of countries released show on September 24, 2021"
   ]
  },
  {
   "cell_type": "code",
   "execution_count": 32,
   "id": "32cd4ddb",
   "metadata": {},
   "outputs": [],
   "source": [
    "BM=df.date_added==\"September 24, 2021\""
   ]
  },
  {
   "cell_type": "code",
   "execution_count": 33,
   "id": "974e3805",
   "metadata": {},
   "outputs": [
    {
     "data": {
      "text/plain": [
       "South Africa                                                             1\n",
       "India                                                                    1\n",
       "United States, Ghana, Burkina Faso, United Kingdom, Germany, Ethiopia    1\n",
       "United Kingdom                                                           1\n",
       "United States                                                            1\n",
       "Name: country, dtype: int64"
      ]
     },
     "execution_count": 33,
     "metadata": {},
     "output_type": "execute_result"
    }
   ],
   "source": [
    "df[BM].country.value_counts()"
   ]
  },
  {
   "cell_type": "markdown",
   "id": "02133395",
   "metadata": {},
   "source": [
    "### Number of countries released show on November 1, 2019\t"
   ]
  },
  {
   "cell_type": "code",
   "execution_count": 42,
   "id": "30e1c0bc",
   "metadata": {},
   "outputs": [],
   "source": [
    "BM=df.date_added==\"November 1, 2019\""
   ]
  },
  {
   "cell_type": "code",
   "execution_count": 43,
   "id": "8c20db21",
   "metadata": {},
   "outputs": [
    {
     "data": {
      "text/plain": [
       "United States                                          52\n",
       "Japan                                                   5\n",
       "United Kingdom                                          3\n",
       "Mexico                                                  3\n",
       "United Kingdom, United States                           2\n",
       "Spain                                                   1\n",
       "United States, Italy, United Kingdom, Liechtenstein     1\n",
       "Hong Kong                                               1\n",
       "United States, United Kingdom                           1\n",
       "United States, Mexico                                   1\n",
       "United States, Canada                                   1\n",
       "Mexico, United States                                   1\n",
       "United States, United Kingdom, Italy                    1\n",
       "Italy                                                   1\n",
       "Argentina, Spain                                        1\n",
       "United States, Germany                                  1\n",
       "Germany                                                 1\n",
       "Canada                                                  1\n",
       "Italy, Belgium                                          1\n",
       "United Kingdom, Hungary, Australia                      1\n",
       "Canada, Australia                                       1\n",
       "United States, Japan                                    1\n",
       "India                                                   1\n",
       "France                                                  1\n",
       "United States, Australia                                1\n",
       "Name: country, dtype: int64"
      ]
     },
     "execution_count": 43,
     "metadata": {},
     "output_type": "execute_result"
    }
   ],
   "source": [
    "df[BM].country.value_counts()"
   ]
  },
  {
   "cell_type": "markdown",
   "id": "c0055c9a",
   "metadata": {},
   "source": [
    "### duration=1 season in each year count"
   ]
  },
  {
   "cell_type": "code",
   "execution_count": 44,
   "id": "d710395d",
   "metadata": {},
   "outputs": [],
   "source": [
    "BM=df.duration==\"1 Season\""
   ]
  },
  {
   "cell_type": "code",
   "execution_count": 45,
   "id": "24e1a34c",
   "metadata": {},
   "outputs": [
    {
     "data": {
      "text/plain": [
       "2020    291\n",
       "2018    256\n",
       "2019    252\n",
       "2021    203\n",
       "2017    176\n",
       "2016    167\n",
       "2015    116\n",
       "2014     64\n",
       "2013     45\n",
       "2012     42\n",
       "2011     34\n",
       "2009     32\n",
       "2010     27\n",
       "2008     16\n",
       "2007      8\n",
       "2005      8\n",
       "2006      7\n",
       "2004      7\n",
       "2003      5\n",
       "2002      4\n",
       "1999      4\n",
       "1997      3\n",
       "1993      3\n",
       "2001      3\n",
       "1996      3\n",
       "2000      2\n",
       "1986      1\n",
       "1990      1\n",
       "1985      1\n",
       "1998      1\n",
       "1946      1\n",
       "1981      1\n",
       "1988      1\n",
       "1979      1\n",
       "1994      1\n",
       "1991      1\n",
       "1972      1\n",
       "1925      1\n",
       "1995      1\n",
       "1945      1\n",
       "1989      1\n",
       "Name: release_year, dtype: int64"
      ]
     },
     "execution_count": 45,
     "metadata": {},
     "output_type": "execute_result"
    }
   ],
   "source": [
    "df[BM].release_year.value_counts()"
   ]
  },
  {
   "cell_type": "markdown",
   "id": "8c8d2f68",
   "metadata": {},
   "source": [
    "### Duration= 90 min in each county count"
   ]
  },
  {
   "cell_type": "code",
   "execution_count": 46,
   "id": "2c9358a2",
   "metadata": {},
   "outputs": [],
   "source": [
    "BM=df.duration==\"90 min\""
   ]
  },
  {
   "cell_type": "code",
   "execution_count": 47,
   "id": "e7cce575",
   "metadata": {},
   "outputs": [
    {
     "data": {
      "text/plain": [
       "United States                                     402\n",
       "South Korea                                       138\n",
       "United Kingdom                                    131\n",
       "Japan                                             110\n",
       "India                                              70\n",
       "                                                 ... \n",
       "Puerto Rico, United States, Colombia                1\n",
       "United Kingdom, Germany, United States, France      1\n",
       "United Kingdom, Spain                               1\n",
       "Chile, Italy                                        1\n",
       "United Kingdom, United States, Czech Republic       1\n",
       "Name: country, Length: 139, dtype: int64"
      ]
     },
     "execution_count": 47,
     "metadata": {},
     "output_type": "execute_result"
    }
   ],
   "source": [
    "df[BM].country.value_counts()"
   ]
  },
  {
   "cell_type": "code",
   "execution_count": 72,
   "id": "699696fe",
   "metadata": {},
   "outputs": [
    {
     "data": {
      "text/html": [
       "<div>\n",
       "<style scoped>\n",
       "    .dataframe tbody tr th:only-of-type {\n",
       "        vertical-align: middle;\n",
       "    }\n",
       "\n",
       "    .dataframe tbody tr th {\n",
       "        vertical-align: top;\n",
       "    }\n",
       "\n",
       "    .dataframe thead th {\n",
       "        text-align: right;\n",
       "    }\n",
       "</style>\n",
       "<table border=\"1\" class=\"dataframe\">\n",
       "  <thead>\n",
       "    <tr style=\"text-align: right;\">\n",
       "      <th></th>\n",
       "      <th>EEID</th>\n",
       "      <th>Full Name</th>\n",
       "      <th>Job Title</th>\n",
       "      <th>Department</th>\n",
       "      <th>Business Unit</th>\n",
       "      <th>Gender</th>\n",
       "      <th>Ethnicity</th>\n",
       "      <th>Age</th>\n",
       "      <th>Hire Date</th>\n",
       "      <th>Annual Salary</th>\n",
       "      <th>Bonus %</th>\n",
       "      <th>Country</th>\n",
       "      <th>City</th>\n",
       "      <th>Exit Date</th>\n",
       "    </tr>\n",
       "  </thead>\n",
       "  <tbody>\n",
       "    <tr>\n",
       "      <th>0</th>\n",
       "      <td>E02387</td>\n",
       "      <td>Emily Davis</td>\n",
       "      <td>Sr. Manger</td>\n",
       "      <td>IT</td>\n",
       "      <td>Research &amp; Development</td>\n",
       "      <td>Female</td>\n",
       "      <td>Black</td>\n",
       "      <td>55</td>\n",
       "      <td>2016-04-08</td>\n",
       "      <td>141604</td>\n",
       "      <td>0.15</td>\n",
       "      <td>United States</td>\n",
       "      <td>Seattle</td>\n",
       "      <td>2021-10-16</td>\n",
       "    </tr>\n",
       "    <tr>\n",
       "      <th>1</th>\n",
       "      <td>E04105</td>\n",
       "      <td>Theodore Dinh</td>\n",
       "      <td>Technical Architect</td>\n",
       "      <td>IT</td>\n",
       "      <td>Manufacturing</td>\n",
       "      <td>Male</td>\n",
       "      <td>Asian</td>\n",
       "      <td>59</td>\n",
       "      <td>1997-11-29</td>\n",
       "      <td>99975</td>\n",
       "      <td>0.00</td>\n",
       "      <td>China</td>\n",
       "      <td>Chongqing</td>\n",
       "      <td>NaT</td>\n",
       "    </tr>\n",
       "    <tr>\n",
       "      <th>2</th>\n",
       "      <td>E02572</td>\n",
       "      <td>Luna Sanders</td>\n",
       "      <td>Director</td>\n",
       "      <td>Finance</td>\n",
       "      <td>Speciality Products</td>\n",
       "      <td>Female</td>\n",
       "      <td>Caucasian</td>\n",
       "      <td>50</td>\n",
       "      <td>2006-10-26</td>\n",
       "      <td>163099</td>\n",
       "      <td>0.20</td>\n",
       "      <td>United States</td>\n",
       "      <td>Chicago</td>\n",
       "      <td>NaT</td>\n",
       "    </tr>\n",
       "    <tr>\n",
       "      <th>3</th>\n",
       "      <td>E02832</td>\n",
       "      <td>Penelope Jordan</td>\n",
       "      <td>Computer Systems Manager</td>\n",
       "      <td>IT</td>\n",
       "      <td>Manufacturing</td>\n",
       "      <td>Female</td>\n",
       "      <td>Caucasian</td>\n",
       "      <td>26</td>\n",
       "      <td>2019-09-27</td>\n",
       "      <td>84913</td>\n",
       "      <td>0.07</td>\n",
       "      <td>United States</td>\n",
       "      <td>Chicago</td>\n",
       "      <td>NaT</td>\n",
       "    </tr>\n",
       "    <tr>\n",
       "      <th>4</th>\n",
       "      <td>E01639</td>\n",
       "      <td>Austin Vo</td>\n",
       "      <td>Sr. Analyst</td>\n",
       "      <td>Finance</td>\n",
       "      <td>Manufacturing</td>\n",
       "      <td>Male</td>\n",
       "      <td>Asian</td>\n",
       "      <td>55</td>\n",
       "      <td>1995-11-20</td>\n",
       "      <td>95409</td>\n",
       "      <td>0.00</td>\n",
       "      <td>United States</td>\n",
       "      <td>Phoenix</td>\n",
       "      <td>NaT</td>\n",
       "    </tr>\n",
       "    <tr>\n",
       "      <th>...</th>\n",
       "      <td>...</td>\n",
       "      <td>...</td>\n",
       "      <td>...</td>\n",
       "      <td>...</td>\n",
       "      <td>...</td>\n",
       "      <td>...</td>\n",
       "      <td>...</td>\n",
       "      <td>...</td>\n",
       "      <td>...</td>\n",
       "      <td>...</td>\n",
       "      <td>...</td>\n",
       "      <td>...</td>\n",
       "      <td>...</td>\n",
       "      <td>...</td>\n",
       "    </tr>\n",
       "    <tr>\n",
       "      <th>995</th>\n",
       "      <td>E03094</td>\n",
       "      <td>Wesley Young</td>\n",
       "      <td>Sr. Analyst</td>\n",
       "      <td>Marketing</td>\n",
       "      <td>Speciality Products</td>\n",
       "      <td>Male</td>\n",
       "      <td>Caucasian</td>\n",
       "      <td>33</td>\n",
       "      <td>2016-09-18</td>\n",
       "      <td>98427</td>\n",
       "      <td>0.00</td>\n",
       "      <td>United States</td>\n",
       "      <td>Columbus</td>\n",
       "      <td>NaT</td>\n",
       "    </tr>\n",
       "    <tr>\n",
       "      <th>996</th>\n",
       "      <td>E01909</td>\n",
       "      <td>Lillian Khan</td>\n",
       "      <td>Analyst</td>\n",
       "      <td>Finance</td>\n",
       "      <td>Speciality Products</td>\n",
       "      <td>Female</td>\n",
       "      <td>Asian</td>\n",
       "      <td>44</td>\n",
       "      <td>2010-05-31</td>\n",
       "      <td>47387</td>\n",
       "      <td>0.00</td>\n",
       "      <td>China</td>\n",
       "      <td>Chengdu</td>\n",
       "      <td>2018-01-08</td>\n",
       "    </tr>\n",
       "    <tr>\n",
       "      <th>997</th>\n",
       "      <td>E04398</td>\n",
       "      <td>Oliver Yang</td>\n",
       "      <td>Director</td>\n",
       "      <td>Marketing</td>\n",
       "      <td>Speciality Products</td>\n",
       "      <td>Male</td>\n",
       "      <td>Asian</td>\n",
       "      <td>31</td>\n",
       "      <td>2019-06-10</td>\n",
       "      <td>176710</td>\n",
       "      <td>0.15</td>\n",
       "      <td>United States</td>\n",
       "      <td>Miami</td>\n",
       "      <td>NaT</td>\n",
       "    </tr>\n",
       "    <tr>\n",
       "      <th>998</th>\n",
       "      <td>E02521</td>\n",
       "      <td>Lily Nguyen</td>\n",
       "      <td>Sr. Analyst</td>\n",
       "      <td>Finance</td>\n",
       "      <td>Speciality Products</td>\n",
       "      <td>Female</td>\n",
       "      <td>Asian</td>\n",
       "      <td>33</td>\n",
       "      <td>2012-01-28</td>\n",
       "      <td>95960</td>\n",
       "      <td>0.00</td>\n",
       "      <td>China</td>\n",
       "      <td>Chengdu</td>\n",
       "      <td>NaT</td>\n",
       "    </tr>\n",
       "    <tr>\n",
       "      <th>999</th>\n",
       "      <td>E03545</td>\n",
       "      <td>Sofia Cheng</td>\n",
       "      <td>Vice President</td>\n",
       "      <td>Accounting</td>\n",
       "      <td>Corporate</td>\n",
       "      <td>Female</td>\n",
       "      <td>Asian</td>\n",
       "      <td>63</td>\n",
       "      <td>2020-07-26</td>\n",
       "      <td>216195</td>\n",
       "      <td>0.31</td>\n",
       "      <td>United States</td>\n",
       "      <td>Miami</td>\n",
       "      <td>NaT</td>\n",
       "    </tr>\n",
       "  </tbody>\n",
       "</table>\n",
       "<p>1000 rows × 14 columns</p>\n",
       "</div>"
      ],
      "text/plain": [
       "       EEID        Full Name                 Job Title  Department  \\\n",
       "0    E02387      Emily Davis                Sr. Manger          IT   \n",
       "1    E04105    Theodore Dinh       Technical Architect          IT   \n",
       "2    E02572     Luna Sanders                  Director     Finance   \n",
       "3    E02832  Penelope Jordan  Computer Systems Manager          IT   \n",
       "4    E01639        Austin Vo               Sr. Analyst     Finance   \n",
       "..      ...              ...                       ...         ...   \n",
       "995  E03094     Wesley Young               Sr. Analyst   Marketing   \n",
       "996  E01909     Lillian Khan                   Analyst     Finance   \n",
       "997  E04398      Oliver Yang                  Director   Marketing   \n",
       "998  E02521      Lily Nguyen               Sr. Analyst     Finance   \n",
       "999  E03545      Sofia Cheng            Vice President  Accounting   \n",
       "\n",
       "              Business Unit  Gender  Ethnicity  Age  Hire Date  Annual Salary  \\\n",
       "0    Research & Development  Female      Black   55 2016-04-08         141604   \n",
       "1             Manufacturing    Male      Asian   59 1997-11-29          99975   \n",
       "2       Speciality Products  Female  Caucasian   50 2006-10-26         163099   \n",
       "3             Manufacturing  Female  Caucasian   26 2019-09-27          84913   \n",
       "4             Manufacturing    Male      Asian   55 1995-11-20          95409   \n",
       "..                      ...     ...        ...  ...        ...            ...   \n",
       "995     Speciality Products    Male  Caucasian   33 2016-09-18          98427   \n",
       "996     Speciality Products  Female      Asian   44 2010-05-31          47387   \n",
       "997     Speciality Products    Male      Asian   31 2019-06-10         176710   \n",
       "998     Speciality Products  Female      Asian   33 2012-01-28          95960   \n",
       "999               Corporate  Female      Asian   63 2020-07-26         216195   \n",
       "\n",
       "     Bonus %        Country       City  Exit Date  \n",
       "0       0.15  United States    Seattle 2021-10-16  \n",
       "1       0.00          China  Chongqing        NaT  \n",
       "2       0.20  United States    Chicago        NaT  \n",
       "3       0.07  United States    Chicago        NaT  \n",
       "4       0.00  United States    Phoenix        NaT  \n",
       "..       ...            ...        ...        ...  \n",
       "995     0.00  United States   Columbus        NaT  \n",
       "996     0.00          China    Chengdu 2018-01-08  \n",
       "997     0.15  United States      Miami        NaT  \n",
       "998     0.00          China    Chengdu        NaT  \n",
       "999     0.31  United States      Miami        NaT  \n",
       "\n",
       "[1000 rows x 14 columns]"
      ]
     },
     "execution_count": 72,
     "metadata": {},
     "output_type": "execute_result"
    }
   ],
   "source": [
    "df=pd.read_excel(\"Employee Sample Data.xlsx\")\n",
    "df"
   ]
  },
  {
   "cell_type": "markdown",
   "id": "cc830c04",
   "metadata": {},
   "source": [
    "### Jobtitle=Sr. Analyst in each country"
   ]
  },
  {
   "cell_type": "code",
   "execution_count": 51,
   "id": "75304dec",
   "metadata": {},
   "outputs": [
    {
     "ename": "AttributeError",
     "evalue": "'DataFrame' object has no attribute 'JobTitle'",
     "output_type": "error",
     "traceback": [
      "\u001b[1;31m---------------------------------------------------------------------------\u001b[0m",
      "\u001b[1;31mAttributeError\u001b[0m                            Traceback (most recent call last)",
      "\u001b[1;32m~\\AppData\\Local\\Temp\\ipykernel_7892\\611891335.py\u001b[0m in \u001b[0;36m<module>\u001b[1;34m\u001b[0m\n\u001b[1;32m----> 1\u001b[1;33m \u001b[0mBM\u001b[0m\u001b[1;33m=\u001b[0m\u001b[0mdf\u001b[0m\u001b[1;33m.\u001b[0m\u001b[0mJobTitle\u001b[0m\u001b[1;33m==\u001b[0m\u001b[1;34m\"Sr.Analyst\"\u001b[0m\u001b[1;33m\u001b[0m\u001b[1;33m\u001b[0m\u001b[0m\n\u001b[0m",
      "\u001b[1;32m~\\anaconda3\\lib\\site-packages\\pandas\\core\\generic.py\u001b[0m in \u001b[0;36m__getattr__\u001b[1;34m(self, name)\u001b[0m\n\u001b[0;32m   5573\u001b[0m         ):\n\u001b[0;32m   5574\u001b[0m             \u001b[1;32mreturn\u001b[0m \u001b[0mself\u001b[0m\u001b[1;33m[\u001b[0m\u001b[0mname\u001b[0m\u001b[1;33m]\u001b[0m\u001b[1;33m\u001b[0m\u001b[1;33m\u001b[0m\u001b[0m\n\u001b[1;32m-> 5575\u001b[1;33m         \u001b[1;32mreturn\u001b[0m \u001b[0mobject\u001b[0m\u001b[1;33m.\u001b[0m\u001b[0m__getattribute__\u001b[0m\u001b[1;33m(\u001b[0m\u001b[0mself\u001b[0m\u001b[1;33m,\u001b[0m \u001b[0mname\u001b[0m\u001b[1;33m)\u001b[0m\u001b[1;33m\u001b[0m\u001b[1;33m\u001b[0m\u001b[0m\n\u001b[0m\u001b[0;32m   5576\u001b[0m \u001b[1;33m\u001b[0m\u001b[0m\n\u001b[0;32m   5577\u001b[0m     \u001b[1;32mdef\u001b[0m \u001b[0m__setattr__\u001b[0m\u001b[1;33m(\u001b[0m\u001b[0mself\u001b[0m\u001b[1;33m,\u001b[0m \u001b[0mname\u001b[0m\u001b[1;33m:\u001b[0m \u001b[0mstr\u001b[0m\u001b[1;33m,\u001b[0m \u001b[0mvalue\u001b[0m\u001b[1;33m)\u001b[0m \u001b[1;33m->\u001b[0m \u001b[1;32mNone\u001b[0m\u001b[1;33m:\u001b[0m\u001b[1;33m\u001b[0m\u001b[1;33m\u001b[0m\u001b[0m\n",
      "\u001b[1;31mAttributeError\u001b[0m: 'DataFrame' object has no attribute 'JobTitle'"
     ]
    }
   ],
   "source": [
    "\n",
    "BM=df.Job Title==\"Sr.Analyst\""
   ]
  },
  {
   "cell_type": "code",
   "execution_count": null,
   "id": "f0bd957f",
   "metadata": {},
   "outputs": [],
   "source": [
    "df[BM].Country.value_counts()"
   ]
  },
  {
   "cell_type": "markdown",
   "id": "b10044de",
   "metadata": {},
   "source": [
    "### Ethnicity=Asian in each country count"
   ]
  },
  {
   "cell_type": "code",
   "execution_count": 52,
   "id": "147edb0e",
   "metadata": {},
   "outputs": [],
   "source": [
    "BM=df.Ethnicity==\"Asian\""
   ]
  },
  {
   "cell_type": "code",
   "execution_count": 54,
   "id": "6db3db4b",
   "metadata": {},
   "outputs": [
    {
     "data": {
      "text/plain": [
       "China            218\n",
       "United States    186\n",
       "Name: Country, dtype: int64"
      ]
     },
     "execution_count": 54,
     "metadata": {},
     "output_type": "execute_result"
    }
   ],
   "source": [
    "df[BM].Country.value_counts()"
   ]
  },
  {
   "cell_type": "markdown",
   "id": "2863effd",
   "metadata": {},
   "source": [
    "### Age < 55 in each department"
   ]
  },
  {
   "cell_type": "code",
   "execution_count": 55,
   "id": "4c8e2b4a",
   "metadata": {},
   "outputs": [],
   "source": [
    "BM=df.Age<55"
   ]
  },
  {
   "cell_type": "code",
   "execution_count": 56,
   "id": "1258a24d",
   "metadata": {},
   "outputs": [
    {
     "data": {
      "text/plain": [
       "IT                 188\n",
       "Engineering        115\n",
       "Sales              113\n",
       "Human Resources     99\n",
       "Marketing           95\n",
       "Finance             89\n",
       "Accounting          69\n",
       "Name: Department, dtype: int64"
      ]
     },
     "execution_count": 56,
     "metadata": {},
     "output_type": "execute_result"
    }
   ],
   "source": [
    "df[BM].Department.value_counts()"
   ]
  },
  {
   "cell_type": "markdown",
   "id": "f0b39ce5",
   "metadata": {},
   "source": [
    "### Age >=60  in each country"
   ]
  },
  {
   "cell_type": "code",
   "execution_count": 58,
   "id": "b6c49dee",
   "metadata": {},
   "outputs": [],
   "source": [
    "BM=df.Age>=60"
   ]
  },
  {
   "cell_type": "code",
   "execution_count": 59,
   "id": "77b7cdc3",
   "metadata": {},
   "outputs": [
    {
     "data": {
      "text/plain": [
       "United States    75\n",
       "China            30\n",
       "Brazil            8\n",
       "Name: Country, dtype: int64"
      ]
     },
     "execution_count": 59,
     "metadata": {},
     "output_type": "execute_result"
    }
   ],
   "source": [
    "df[BM].Country.value_counts()"
   ]
  },
  {
   "cell_type": "markdown",
   "id": "e837f603",
   "metadata": {},
   "source": [
    "### Gender=male in each department"
   ]
  },
  {
   "cell_type": "code",
   "execution_count": 61,
   "id": "8e5f23b8",
   "metadata": {},
   "outputs": [],
   "source": [
    "BM=df.Gender==\"Male\""
   ]
  },
  {
   "cell_type": "code",
   "execution_count": 62,
   "id": "8db88d32",
   "metadata": {},
   "outputs": [
    {
     "data": {
      "text/plain": [
       "IT                 241\n",
       "Engineering        158\n",
       "Sales              140\n",
       "Human Resources    125\n",
       "Finance            120\n",
       "Marketing          120\n",
       "Accounting          96\n",
       "Name: Department, dtype: int64"
      ]
     },
     "execution_count": 62,
     "metadata": {},
     "output_type": "execute_result"
    }
   ],
   "source": [
    "df[BM].Department.value_counts()"
   ]
  },
  {
   "cell_type": "code",
   "execution_count": null,
   "id": "924f20f0",
   "metadata": {},
   "outputs": [],
   "source": []
  }
 ],
 "metadata": {
  "kernelspec": {
   "display_name": "Python 3 (ipykernel)",
   "language": "python",
   "name": "python3"
  },
  "language_info": {
   "codemirror_mode": {
    "name": "ipython",
    "version": 3
   },
   "file_extension": ".py",
   "mimetype": "text/x-python",
   "name": "python",
   "nbconvert_exporter": "python",
   "pygments_lexer": "ipython3",
   "version": "3.9.13"
  }
 },
 "nbformat": 4,
 "nbformat_minor": 5
}
