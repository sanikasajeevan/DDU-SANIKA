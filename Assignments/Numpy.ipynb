{
 "cells": [
  {
   "cell_type": "code",
   "execution_count": 53,
   "id": "1d6aee60",
   "metadata": {},
   "outputs": [],
   "source": [
    "import numpy as np\n",
    "import warnings\n",
    "warnings.filterwarnings('ignore')"
   ]
  },
  {
   "cell_type": "markdown",
   "id": "a13cb178",
   "metadata": {},
   "source": [
    "## 1D Array"
   ]
  },
  {
   "cell_type": "code",
   "execution_count": 2,
   "id": "e809fb73",
   "metadata": {},
   "outputs": [],
   "source": [
    "a=np.array([10,20,30,50,60,0])"
   ]
  },
  {
   "cell_type": "code",
   "execution_count": 3,
   "id": "debdd8c6",
   "metadata": {},
   "outputs": [
    {
     "data": {
      "text/plain": [
       "dtype('int32')"
      ]
     },
     "execution_count": 3,
     "metadata": {},
     "output_type": "execute_result"
    }
   ],
   "source": [
    "a.dtype"
   ]
  },
  {
   "cell_type": "code",
   "execution_count": 4,
   "id": "2f5bbcad",
   "metadata": {},
   "outputs": [
    {
     "data": {
      "text/plain": [
       "(6,)"
      ]
     },
     "execution_count": 4,
     "metadata": {},
     "output_type": "execute_result"
    }
   ],
   "source": [
    "a.shape"
   ]
  },
  {
   "cell_type": "code",
   "execution_count": 5,
   "id": "8bfc96a0",
   "metadata": {},
   "outputs": [
    {
     "data": {
      "text/plain": [
       "1"
      ]
     },
     "execution_count": 5,
     "metadata": {},
     "output_type": "execute_result"
    }
   ],
   "source": [
    "a.ndim"
   ]
  },
  {
   "cell_type": "code",
   "execution_count": 6,
   "id": "02cd363a",
   "metadata": {},
   "outputs": [
    {
     "data": {
      "text/plain": [
       "6"
      ]
     },
     "execution_count": 6,
     "metadata": {},
     "output_type": "execute_result"
    }
   ],
   "source": [
    "a.size"
   ]
  },
  {
   "cell_type": "code",
   "execution_count": 7,
   "id": "cdd587d5",
   "metadata": {},
   "outputs": [
    {
     "data": {
      "text/plain": [
       "10"
      ]
     },
     "execution_count": 7,
     "metadata": {},
     "output_type": "execute_result"
    }
   ],
   "source": [
    "a[0]"
   ]
  },
  {
   "cell_type": "code",
   "execution_count": 8,
   "id": "8c4c41e1",
   "metadata": {},
   "outputs": [
    {
     "data": {
      "text/plain": [
       "30"
      ]
     },
     "execution_count": 8,
     "metadata": {},
     "output_type": "execute_result"
    }
   ],
   "source": [
    "a[2]"
   ]
  },
  {
   "cell_type": "markdown",
   "id": "9d9971ce",
   "metadata": {},
   "source": [
    "## Multi dimensional array"
   ]
  },
  {
   "cell_type": "code",
   "execution_count": 9,
   "id": "707cf1d6",
   "metadata": {},
   "outputs": [
    {
     "data": {
      "text/plain": [
       "array([[10, 20, 30],\n",
       "       [23, 55, 15]])"
      ]
     },
     "execution_count": 9,
     "metadata": {},
     "output_type": "execute_result"
    }
   ],
   "source": [
    "a_2d=np.array([[10,20,30],[23,55,15]])\n",
    "a_2d"
   ]
  },
  {
   "cell_type": "code",
   "execution_count": 10,
   "id": "0f7b556c",
   "metadata": {},
   "outputs": [
    {
     "data": {
      "text/plain": [
       "dtype('int32')"
      ]
     },
     "execution_count": 10,
     "metadata": {},
     "output_type": "execute_result"
    }
   ],
   "source": [
    "a_2d.dtype"
   ]
  },
  {
   "cell_type": "code",
   "execution_count": 11,
   "id": "b65f6248",
   "metadata": {},
   "outputs": [
    {
     "data": {
      "text/plain": [
       "(2, 3)"
      ]
     },
     "execution_count": 11,
     "metadata": {},
     "output_type": "execute_result"
    }
   ],
   "source": [
    "a_2d.shape"
   ]
  },
  {
   "cell_type": "code",
   "execution_count": 12,
   "id": "86b985bb",
   "metadata": {},
   "outputs": [
    {
     "data": {
      "text/plain": [
       "2"
      ]
     },
     "execution_count": 12,
     "metadata": {},
     "output_type": "execute_result"
    }
   ],
   "source": [
    "a_2d.ndim"
   ]
  },
  {
   "cell_type": "code",
   "execution_count": 13,
   "id": "3c7d0f97",
   "metadata": {},
   "outputs": [
    {
     "data": {
      "text/plain": [
       "6"
      ]
     },
     "execution_count": 13,
     "metadata": {},
     "output_type": "execute_result"
    }
   ],
   "source": [
    "a_2d.size"
   ]
  },
  {
   "cell_type": "code",
   "execution_count": 14,
   "id": "88ce88de",
   "metadata": {},
   "outputs": [
    {
     "data": {
      "text/plain": [
       "array([10, 20, 30])"
      ]
     },
     "execution_count": 14,
     "metadata": {},
     "output_type": "execute_result"
    }
   ],
   "source": [
    "a_2d[0]"
   ]
  },
  {
   "cell_type": "markdown",
   "id": "04bbd5e0",
   "metadata": {},
   "source": [
    "## Another type of multi dimesional array"
   ]
  },
  {
   "cell_type": "code",
   "execution_count": 15,
   "id": "5f19dfbc",
   "metadata": {},
   "outputs": [
    {
     "data": {
      "text/plain": [
       "array([[[1, 2, 3, 4]]])"
      ]
     },
     "execution_count": 15,
     "metadata": {},
     "output_type": "execute_result"
    }
   ],
   "source": [
    "another_type_array=np.array([[[1,2,3,4]]])\n",
    "another_type_array"
   ]
  },
  {
   "cell_type": "code",
   "execution_count": 16,
   "id": "bd056816",
   "metadata": {},
   "outputs": [
    {
     "data": {
      "text/plain": [
       "(1, 1, 4)"
      ]
     },
     "execution_count": 16,
     "metadata": {},
     "output_type": "execute_result"
    }
   ],
   "source": [
    "another_type_array.shape"
   ]
  },
  {
   "cell_type": "code",
   "execution_count": 17,
   "id": "998468b8",
   "metadata": {},
   "outputs": [
    {
     "data": {
      "text/plain": [
       "3"
      ]
     },
     "execution_count": 17,
     "metadata": {},
     "output_type": "execute_result"
    }
   ],
   "source": [
    "another_type_array.ndim"
   ]
  },
  {
   "cell_type": "markdown",
   "id": "be14f039",
   "metadata": {},
   "source": [
    "### First element in first array"
   ]
  },
  {
   "cell_type": "code",
   "execution_count": 18,
   "id": "a9647183",
   "metadata": {},
   "outputs": [
    {
     "data": {
      "text/plain": [
       "10"
      ]
     },
     "execution_count": 18,
     "metadata": {},
     "output_type": "execute_result"
    }
   ],
   "source": [
    "a_2d[0][0]"
   ]
  },
  {
   "cell_type": "markdown",
   "id": "d33e1c6c",
   "metadata": {},
   "source": [
    "### second element in second array"
   ]
  },
  {
   "cell_type": "code",
   "execution_count": 19,
   "id": "f7089b25",
   "metadata": {},
   "outputs": [
    {
     "data": {
      "text/plain": [
       "55"
      ]
     },
     "execution_count": 19,
     "metadata": {},
     "output_type": "execute_result"
    }
   ],
   "source": [
    "a_2d[1][1]"
   ]
  },
  {
   "cell_type": "markdown",
   "id": "529da58c",
   "metadata": {},
   "source": [
    "### Lets change its data type into float"
   ]
  },
  {
   "cell_type": "code",
   "execution_count": 20,
   "id": "0c402874",
   "metadata": {},
   "outputs": [
    {
     "data": {
      "text/plain": [
       "array([[10., 20., 30.],\n",
       "       [23., 55., 15.]])"
      ]
     },
     "execution_count": 20,
     "metadata": {},
     "output_type": "execute_result"
    }
   ],
   "source": [
    "a_2d=np.array([[10,20,30],[23,55,15]], dtype=float)\n",
    "a_2d"
   ]
  },
  {
   "cell_type": "markdown",
   "id": "39dd0cce",
   "metadata": {},
   "source": [
    "## Lets create a bigger array"
   ]
  },
  {
   "cell_type": "code",
   "execution_count": 21,
   "id": "a9d09de3",
   "metadata": {},
   "outputs": [],
   "source": [
    "a_bigger=np.array([\n",
    "    [\n",
    "        [10,20,30,40],[8,8,2,1],[1,1,1,2]\n",
    "    ],\n",
    "    [\n",
    "        [9,9,2,39],[1,2,3,3],[0,0,3,2]\n",
    "    ],\n",
    "    [\n",
    "        [12,33,22,1],[22,1,22,2],[0,2,3,1]\n",
    "    ]\n",
    "],dtype=float)"
   ]
  },
  {
   "cell_type": "code",
   "execution_count": 22,
   "id": "3ff9b1b3",
   "metadata": {},
   "outputs": [
    {
     "data": {
      "text/plain": [
       "(3, 3, 4)"
      ]
     },
     "execution_count": 22,
     "metadata": {},
     "output_type": "execute_result"
    }
   ],
   "source": [
    "a_bigger.shape"
   ]
  },
  {
   "cell_type": "code",
   "execution_count": 23,
   "id": "b2d01741",
   "metadata": {},
   "outputs": [
    {
     "data": {
      "text/plain": [
       "3"
      ]
     },
     "execution_count": 23,
     "metadata": {},
     "output_type": "execute_result"
    }
   ],
   "source": [
    "a_bigger.ndim"
   ]
  },
  {
   "cell_type": "code",
   "execution_count": 24,
   "id": "2a6e378c",
   "metadata": {},
   "outputs": [
    {
     "data": {
      "text/plain": [
       "36"
      ]
     },
     "execution_count": 24,
     "metadata": {},
     "output_type": "execute_result"
    }
   ],
   "source": [
    "a_bigger.size"
   ]
  },
  {
   "cell_type": "code",
   "execution_count": 25,
   "id": "fdbd4823",
   "metadata": {},
   "outputs": [
    {
     "data": {
      "text/plain": [
       "1.0"
      ]
     },
     "execution_count": 25,
     "metadata": {},
     "output_type": "execute_result"
    }
   ],
   "source": [
    "a_bigger[2][2][3]"
   ]
  },
  {
   "cell_type": "code",
   "execution_count": 26,
   "id": "835116ae",
   "metadata": {},
   "outputs": [
    {
     "data": {
      "text/plain": [
       "array([0., 2., 3., 1.])"
      ]
     },
     "execution_count": 26,
     "metadata": {},
     "output_type": "execute_result"
    }
   ],
   "source": [
    "a_bigger[2][2]"
   ]
  },
  {
   "cell_type": "markdown",
   "id": "153909e0",
   "metadata": {},
   "source": [
    "## Filling arrays\n",
    "#### np.full\n",
    "##### By using the full function for eg we fill an array of a certain shape with the same number"
   ]
  },
  {
   "cell_type": "code",
   "execution_count": 27,
   "id": "50299b32",
   "metadata": {},
   "outputs": [
    {
     "data": {
      "text/plain": [
       "array([[[7, 7, 7, 7],\n",
       "        [7, 7, 7, 7],\n",
       "        [7, 7, 7, 7],\n",
       "        [7, 7, 7, 7],\n",
       "        [7, 7, 7, 7]],\n",
       "\n",
       "       [[7, 7, 7, 7],\n",
       "        [7, 7, 7, 7],\n",
       "        [7, 7, 7, 7],\n",
       "        [7, 7, 7, 7],\n",
       "        [7, 7, 7, 7]],\n",
       "\n",
       "       [[7, 7, 7, 7],\n",
       "        [7, 7, 7, 7],\n",
       "        [7, 7, 7, 7],\n",
       "        [7, 7, 7, 7],\n",
       "        [7, 7, 7, 7]]])"
      ]
     },
     "execution_count": 27,
     "metadata": {},
     "output_type": "execute_result"
    }
   ],
   "source": [
    "a_full=np.full((3,5,4),7)\n",
    "a_full"
   ]
  },
  {
   "cell_type": "code",
   "execution_count": 28,
   "id": "b9c40478",
   "metadata": {},
   "outputs": [
    {
     "data": {
      "text/plain": [
       "3"
      ]
     },
     "execution_count": 28,
     "metadata": {},
     "output_type": "execute_result"
    }
   ],
   "source": [
    "a_full.ndim"
   ]
  },
  {
   "cell_type": "markdown",
   "id": "4b1c5f54",
   "metadata": {},
   "source": [
    "## Zeros and ones\n",
    "#### for the case that we want arrays full of zeros or ones, we even have specific functions"
   ]
  },
  {
   "cell_type": "code",
   "execution_count": 29,
   "id": "0fc4a888",
   "metadata": {},
   "outputs": [
    {
     "data": {
      "text/plain": [
       "array([[0., 0., 0.],\n",
       "       [0., 0., 0.],\n",
       "       [0., 0., 0.]])"
      ]
     },
     "execution_count": 29,
     "metadata": {},
     "output_type": "execute_result"
    }
   ],
   "source": [
    "a_zeros=np.zeros((3,3))\n",
    "a_zeros"
   ]
  },
  {
   "cell_type": "code",
   "execution_count": 30,
   "id": "ed419d93",
   "metadata": {},
   "outputs": [
    {
     "data": {
      "text/plain": [
       "array([[[1., 1., 1., 1.],\n",
       "        [1., 1., 1., 1.],\n",
       "        [1., 1., 1., 1.]],\n",
       "\n",
       "       [[1., 1., 1., 1.],\n",
       "        [1., 1., 1., 1.],\n",
       "        [1., 1., 1., 1.]]])"
      ]
     },
     "execution_count": 30,
     "metadata": {},
     "output_type": "execute_result"
    }
   ],
   "source": [
    "b_ones=np.ones((2,3,4))\n",
    "b_ones"
   ]
  },
  {
   "cell_type": "code",
   "execution_count": 31,
   "id": "0f7a5312",
   "metadata": {},
   "outputs": [
    {
     "data": {
      "text/plain": [
       "3"
      ]
     },
     "execution_count": 31,
     "metadata": {},
     "output_type": "execute_result"
    }
   ],
   "source": [
    "b_ones.ndim"
   ]
  },
  {
   "cell_type": "markdown",
   "id": "643ab8a6",
   "metadata": {},
   "source": [
    "## Empty and random\n",
    "#### other options would be to create an empty array or one that is filled with random numbers."
   ]
  },
  {
   "cell_type": "code",
   "execution_count": 32,
   "id": "2212e43f",
   "metadata": {},
   "outputs": [
    {
     "data": {
      "text/plain": [
       "array([[4.67296746e-307, 1.69121096e-306, 2.33646845e-307,\n",
       "        1.11256817e-306],\n",
       "       [1.06811422e-306, 1.42417221e-306, 1.11260619e-306,\n",
       "        8.90094053e-307],\n",
       "       [1.86919378e-306, 1.06809792e-306, 1.37962456e-306,\n",
       "        1.69111861e-306],\n",
       "       [1.78020169e-306, 1.37961777e-306, 7.56599807e-307,\n",
       "        7.56599806e-307]])"
      ]
     },
     "execution_count": 32,
     "metadata": {},
     "output_type": "execute_result"
    }
   ],
   "source": [
    "e=np.empty((4,4))\n",
    "e"
   ]
  },
  {
   "cell_type": "code",
   "execution_count": 33,
   "id": "930b3079",
   "metadata": {},
   "outputs": [
    {
     "data": {
      "text/plain": [
       "array([[0.06591557, 0.2607384 ],\n",
       "       [0.14838013, 0.47918526]])"
      ]
     },
     "execution_count": 33,
     "metadata": {},
     "output_type": "execute_result"
    }
   ],
   "source": [
    "b_random=np.random.random((2,2))\n",
    "b_random"
   ]
  },
  {
   "cell_type": "code",
   "execution_count": 34,
   "id": "0a95ff38",
   "metadata": {},
   "outputs": [
    {
     "data": {
      "text/plain": [
       "2"
      ]
     },
     "execution_count": 34,
     "metadata": {},
     "output_type": "execute_result"
    }
   ],
   "source": [
    "b_random.ndim"
   ]
  },
  {
   "cell_type": "code",
   "execution_count": 35,
   "id": "b36239b1",
   "metadata": {},
   "outputs": [
    {
     "data": {
      "text/plain": [
       "4"
      ]
     },
     "execution_count": 35,
     "metadata": {},
     "output_type": "execute_result"
    }
   ],
   "source": [
    "b_random.size"
   ]
  },
  {
   "cell_type": "markdown",
   "id": "4fb5231d",
   "metadata": {},
   "source": [
    "## RANGES\n",
    "#### Instead of filling array with same values,we can fill create sequences of values by specifying the boundaries.\n",
    "### arange    \n",
    "#### arguments(start,stop,step)"
   ]
  },
  {
   "cell_type": "code",
   "execution_count": 36,
   "id": "dba5b34b",
   "metadata": {},
   "outputs": [
    {
     "data": {
      "text/plain": [
       "array([10, 15, 20, 25, 30, 35, 40, 45])"
      ]
     },
     "execution_count": 36,
     "metadata": {},
     "output_type": "execute_result"
    }
   ],
   "source": [
    "a_arange=np.arange(10,50,5)\n",
    "a_arange"
   ]
  },
  {
   "cell_type": "markdown",
   "id": "afb1fa87",
   "metadata": {},
   "source": [
    "### linspace\n",
    "#### by using linspace we also create a list from a minimum value to a maximum value. But instead of specifying the step size we specify the amount of values that we want to have in our list.They will all be spread evenly and have the same distance to their neighbours\n",
    "##### start-stop-number of values"
   ]
  },
  {
   "cell_type": "code",
   "execution_count": 37,
   "id": "ae017215",
   "metadata": {},
   "outputs": [
    {
     "data": {
      "text/plain": [
       "array([ 0., 50.])"
      ]
     },
     "execution_count": 37,
     "metadata": {},
     "output_type": "execute_result"
    }
   ],
   "source": [
    "b_linspace=np.linspace(0,50,2)\n",
    "b_linspace"
   ]
  },
  {
   "cell_type": "code",
   "execution_count": 38,
   "id": "e82a0723",
   "metadata": {},
   "outputs": [
    {
     "data": {
      "text/plain": [
       "1"
      ]
     },
     "execution_count": 38,
     "metadata": {},
     "output_type": "execute_result"
    }
   ],
   "source": [
    "b_linspace.ndim"
   ]
  },
  {
   "cell_type": "code",
   "execution_count": 39,
   "id": "647b975a",
   "metadata": {},
   "outputs": [
    {
     "data": {
      "text/plain": [
       "2"
      ]
     },
     "execution_count": 39,
     "metadata": {},
     "output_type": "execute_result"
    }
   ],
   "source": [
    "b_linspace.size"
   ]
  },
  {
   "cell_type": "code",
   "execution_count": 40,
   "id": "075f824b",
   "metadata": {},
   "outputs": [
    {
     "data": {
      "text/plain": [
       "array([ 0.        ,  2.08333333,  4.16666667,  6.25      ,  8.33333333,\n",
       "       10.41666667, 12.5       , 14.58333333, 16.66666667, 18.75      ,\n",
       "       20.83333333, 22.91666667, 25.        , 27.08333333, 29.16666667,\n",
       "       31.25      , 33.33333333, 35.41666667, 37.5       , 39.58333333,\n",
       "       41.66666667, 43.75      , 45.83333333, 47.91666667, 50.        ])"
      ]
     },
     "execution_count": 40,
     "metadata": {},
     "output_type": "execute_result"
    }
   ],
   "source": [
    "b_linspace1=np.linspace(0,50,25)\n",
    "b_linspace1"
   ]
  },
  {
   "cell_type": "code",
   "execution_count": 41,
   "id": "c92c0f8e",
   "metadata": {},
   "outputs": [
    {
     "data": {
      "text/plain": [
       "25"
      ]
     },
     "execution_count": 41,
     "metadata": {},
     "output_type": "execute_result"
    }
   ],
   "source": [
    "b_linspace1.size"
   ]
  },
  {
   "cell_type": "code",
   "execution_count": 42,
   "id": "ef194b8a",
   "metadata": {},
   "outputs": [
    {
     "data": {
      "text/plain": [
       "array([ 0,  2,  4,  6,  8, 10, 12, 14, 16, 18, 20, 22, 25, 27, 29, 31, 33,\n",
       "       35, 37, 39, 41, 43, 45, 47, 50])"
      ]
     },
     "execution_count": 42,
     "metadata": {},
     "output_type": "execute_result"
    }
   ],
   "source": [
    "b_linspace2=np.linspace(0,50,25,dtype=int)\n",
    "b_linspace2"
   ]
  },
  {
   "cell_type": "markdown",
   "id": "cefaaa25",
   "metadata": {},
   "source": [
    "## Math functions and Aggregate function"
   ]
  },
  {
   "cell_type": "code",
   "execution_count": 43,
   "id": "507ffedb",
   "metadata": {},
   "outputs": [
    {
     "data": {
      "text/plain": [
       "25.0"
      ]
     },
     "execution_count": 43,
     "metadata": {},
     "output_type": "execute_result"
    }
   ],
   "source": [
    "np.median(b_linspace2)"
   ]
  },
  {
   "cell_type": "code",
   "execution_count": 44,
   "id": "74b715f3",
   "metadata": {},
   "outputs": [
    {
     "data": {
      "text/plain": [
       "614"
      ]
     },
     "execution_count": 44,
     "metadata": {},
     "output_type": "execute_result"
    }
   ],
   "source": [
    "np.sum(b_linspace2)"
   ]
  },
  {
   "cell_type": "code",
   "execution_count": 45,
   "id": "2fc078f1",
   "metadata": {},
   "outputs": [
    {
     "data": {
      "text/plain": [
       "array([0.        , 1.41421356, 2.        , 2.44948974, 2.82842712,\n",
       "       3.16227766, 3.46410162, 3.74165739, 4.        , 4.24264069,\n",
       "       4.47213595, 4.69041576, 5.        , 5.19615242, 5.38516481,\n",
       "       5.56776436, 5.74456265, 5.91607978, 6.08276253, 6.244998  ,\n",
       "       6.40312424, 6.55743852, 6.70820393, 6.8556546 , 7.07106781])"
      ]
     },
     "execution_count": 45,
     "metadata": {},
     "output_type": "execute_result"
    }
   ],
   "source": [
    "np.sqrt(b_linspace2)"
   ]
  },
  {
   "cell_type": "code",
   "execution_count": 46,
   "id": "3b4c2de6",
   "metadata": {},
   "outputs": [
    {
     "data": {
      "text/plain": [
       "14.924020905908701"
      ]
     },
     "execution_count": 46,
     "metadata": {},
     "output_type": "execute_result"
    }
   ],
   "source": [
    "np.std(b_linspace2)"
   ]
  },
  {
   "cell_type": "code",
   "execution_count": 47,
   "id": "fda8dd66",
   "metadata": {},
   "outputs": [
    {
     "data": {
      "text/plain": [
       "array([ 1.        , -0.41614684, -0.65364362,  0.96017029, -0.14550003,\n",
       "       -0.83907153,  0.84385396,  0.13673722, -0.95765948,  0.66031671,\n",
       "        0.40808206, -0.99996083,  0.99120281, -0.29213881, -0.74805753,\n",
       "        0.91474236, -0.01327675, -0.90369221,  0.76541405,  0.26664293,\n",
       "       -0.98733928,  0.5551133 ,  0.52532199, -0.99233547,  0.96496603])"
      ]
     },
     "execution_count": 47,
     "metadata": {},
     "output_type": "execute_result"
    }
   ],
   "source": [
    "np.cos(b_linspace2)"
   ]
  },
  {
   "cell_type": "code",
   "execution_count": 48,
   "id": "19cf47ff",
   "metadata": {},
   "outputs": [
    {
     "data": {
      "text/plain": [
       "array([1.00000000e+00, 7.38905610e+00, 5.45981500e+01, 4.03428793e+02,\n",
       "       2.98095799e+03, 2.20264658e+04, 1.62754791e+05, 1.20260428e+06,\n",
       "       8.88611052e+06, 6.56599691e+07, 4.85165195e+08, 3.58491285e+09,\n",
       "       7.20048993e+10, 5.32048241e+11, 3.93133430e+12, 2.90488497e+13,\n",
       "       2.14643580e+14, 1.58601345e+15, 1.17191424e+16, 8.65934004e+16,\n",
       "       6.39843494e+17, 4.72783947e+18, 3.49342711e+19, 2.58131289e+20,\n",
       "       5.18470553e+21])"
      ]
     },
     "execution_count": 48,
     "metadata": {},
     "output_type": "execute_result"
    }
   ],
   "source": [
    "np.exp(b_linspace2)"
   ]
  },
  {
   "cell_type": "code",
   "execution_count": 49,
   "id": "b046f673",
   "metadata": {},
   "outputs": [
    {
     "data": {
      "text/plain": [
       "array([ 0.        ,  0.90929743, -0.7568025 , -0.2794155 ,  0.98935825,\n",
       "       -0.54402111, -0.53657292,  0.99060736, -0.28790332, -0.75098725,\n",
       "        0.91294525, -0.00885131, -0.13235175,  0.95637593, -0.66363388,\n",
       "       -0.40403765,  0.99991186, -0.42818267, -0.64353813,  0.96379539,\n",
       "       -0.15862267, -0.83177474,  0.85090352,  0.12357312, -0.26237485])"
      ]
     },
     "execution_count": 49,
     "metadata": {},
     "output_type": "execute_result"
    }
   ],
   "source": [
    "np.sin(b_linspace2)"
   ]
  },
  {
   "cell_type": "code",
   "execution_count": 50,
   "id": "9cc7983c",
   "metadata": {},
   "outputs": [
    {
     "data": {
      "text/plain": [
       "array([ 1.        , -0.41614684, -0.65364362,  0.96017029, -0.14550003,\n",
       "       -0.83907153,  0.84385396,  0.13673722, -0.95765948,  0.66031671,\n",
       "        0.40808206, -0.99996083,  0.99120281, -0.29213881, -0.74805753,\n",
       "        0.91474236, -0.01327675, -0.90369221,  0.76541405,  0.26664293,\n",
       "       -0.98733928,  0.5551133 ,  0.52532199, -0.99233547,  0.96496603])"
      ]
     },
     "execution_count": 50,
     "metadata": {},
     "output_type": "execute_result"
    }
   ],
   "source": [
    "np.cos(b_linspace2)"
   ]
  },
  {
   "cell_type": "code",
   "execution_count": 51,
   "id": "f6f1a330",
   "metadata": {},
   "outputs": [
    {
     "data": {
      "text/plain": [
       "array([ 0.00000000e+00, -2.18503986e+00,  1.15782128e+00, -2.91006191e-01,\n",
       "       -6.79971146e+00,  6.48360827e-01, -6.35859929e-01,  7.24460662e+00,\n",
       "        3.00632242e-01, -1.13731371e+00,  2.23716094e+00,  8.85165604e-03,\n",
       "       -1.33526407e-01, -3.27370380e+00,  8.87142844e-01, -4.41695568e-01,\n",
       "       -7.53130148e+01,  4.73814720e-01, -8.40771255e-01,  3.61455441e+00,\n",
       "        1.60656699e-01, -1.49838734e+00,  1.61977519e+00, -1.24527568e-01,\n",
       "       -2.71900612e-01])"
      ]
     },
     "execution_count": 51,
     "metadata": {},
     "output_type": "execute_result"
    }
   ],
   "source": [
    "np.tan(b_linspace2)"
   ]
  },
  {
   "cell_type": "code",
   "execution_count": 54,
   "id": "b2140934",
   "metadata": {},
   "outputs": [
    {
     "data": {
      "text/plain": [
       "array([      -inf, 0.69314718, 1.38629436, 1.79175947, 2.07944154,\n",
       "       2.30258509, 2.48490665, 2.63905733, 2.77258872, 2.89037176,\n",
       "       2.99573227, 3.09104245, 3.21887582, 3.29583687, 3.36729583,\n",
       "       3.4339872 , 3.49650756, 3.55534806, 3.61091791, 3.66356165,\n",
       "       3.71357207, 3.76120012, 3.80666249, 3.8501476 , 3.91202301])"
      ]
     },
     "execution_count": 54,
     "metadata": {},
     "output_type": "execute_result"
    }
   ],
   "source": [
    "np.log(b_linspace2)"
   ]
  },
  {
   "cell_type": "code",
   "execution_count": 55,
   "id": "f193ac73",
   "metadata": {},
   "outputs": [
    {
     "data": {
      "text/plain": [
       "614"
      ]
     },
     "execution_count": 55,
     "metadata": {},
     "output_type": "execute_result"
    }
   ],
   "source": [
    "b_linspace2.sum()"
   ]
  },
  {
   "cell_type": "code",
   "execution_count": 56,
   "id": "983f80f9",
   "metadata": {},
   "outputs": [
    {
     "data": {
      "text/plain": [
       "0"
      ]
     },
     "execution_count": 56,
     "metadata": {},
     "output_type": "execute_result"
    }
   ],
   "source": [
    "b_linspace2.min()"
   ]
  },
  {
   "cell_type": "code",
   "execution_count": 57,
   "id": "343ba45f",
   "metadata": {},
   "outputs": [
    {
     "data": {
      "text/plain": [
       "50"
      ]
     },
     "execution_count": 57,
     "metadata": {},
     "output_type": "execute_result"
    }
   ],
   "source": [
    "b_linspace2.max()"
   ]
  },
  {
   "cell_type": "code",
   "execution_count": 58,
   "id": "07423f0a",
   "metadata": {},
   "outputs": [
    {
     "data": {
      "text/plain": [
       "24.56"
      ]
     },
     "execution_count": 58,
     "metadata": {},
     "output_type": "execute_result"
    }
   ],
   "source": [
    "b_linspace2.mean()"
   ]
  },
  {
   "cell_type": "code",
   "execution_count": 59,
   "id": "e3c1d9eb",
   "metadata": {},
   "outputs": [
    {
     "ename": "AttributeError",
     "evalue": "'numpy.ndarray' object has no attribute 'median'",
     "output_type": "error",
     "traceback": [
      "\u001b[1;31m---------------------------------------------------------------------------\u001b[0m",
      "\u001b[1;31mAttributeError\u001b[0m                            Traceback (most recent call last)",
      "\u001b[1;32m~\\AppData\\Local\\Temp\\ipykernel_2900\\2889394516.py\u001b[0m in \u001b[0;36m<module>\u001b[1;34m\u001b[0m\n\u001b[1;32m----> 1\u001b[1;33m \u001b[0mb_linspace2\u001b[0m\u001b[1;33m.\u001b[0m\u001b[0mmedian\u001b[0m\u001b[1;33m(\u001b[0m\u001b[1;33m)\u001b[0m\u001b[1;33m\u001b[0m\u001b[1;33m\u001b[0m\u001b[0m\n\u001b[0m",
      "\u001b[1;31mAttributeError\u001b[0m: 'numpy.ndarray' object has no attribute 'median'"
     ]
    }
   ],
   "source": [
    "b_linspace2.median()"
   ]
  },
  {
   "cell_type": "code",
   "execution_count": null,
   "id": "0e302bb4",
   "metadata": {},
   "outputs": [],
   "source": []
  }
 ],
 "metadata": {
  "kernelspec": {
   "display_name": "Python 3 (ipykernel)",
   "language": "python",
   "name": "python3"
  },
  "language_info": {
   "codemirror_mode": {
    "name": "ipython",
    "version": 3
   },
   "file_extension": ".py",
   "mimetype": "text/x-python",
   "name": "python",
   "nbconvert_exporter": "python",
   "pygments_lexer": "ipython3",
   "version": "3.9.13"
  }
 },
 "nbformat": 4,
 "nbformat_minor": 5
}
