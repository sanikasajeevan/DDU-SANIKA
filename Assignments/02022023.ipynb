{
 "cells": [
  {
   "cell_type": "markdown",
   "id": "dfede475",
   "metadata": {},
   "source": [
    "# Creating a data frame"
   ]
  },
  {
   "cell_type": "code",
   "execution_count": 1,
   "id": "0e58e77b",
   "metadata": {},
   "outputs": [],
   "source": [
    "import numpy as np\n",
    "import pandas as pd\n",
    "import warnings\n",
    "warnings.filterwarnings('ignore')"
   ]
  },
  {
   "cell_type": "code",
   "execution_count": 2,
   "id": "ce1a6b0a",
   "metadata": {},
   "outputs": [
    {
     "data": {
      "text/html": [
       "<div>\n",
       "<style scoped>\n",
       "    .dataframe tbody tr th:only-of-type {\n",
       "        vertical-align: middle;\n",
       "    }\n",
       "\n",
       "    .dataframe tbody tr th {\n",
       "        vertical-align: top;\n",
       "    }\n",
       "\n",
       "    .dataframe thead th {\n",
       "        text-align: right;\n",
       "    }\n",
       "</style>\n",
       "<table border=\"1\" class=\"dataframe\">\n",
       "  <thead>\n",
       "    <tr style=\"text-align: right;\">\n",
       "      <th></th>\n",
       "      <th>NAME</th>\n",
       "      <th>GENDER</th>\n",
       "      <th>PYTHON</th>\n",
       "      <th>STATS</th>\n",
       "      <th>TOTAL</th>\n",
       "      <th>PERCENTAGE</th>\n",
       "    </tr>\n",
       "  </thead>\n",
       "  <tbody>\n",
       "    <tr>\n",
       "      <th>0</th>\n",
       "      <td>ABHIMANYU RAVI CR</td>\n",
       "      <td>M</td>\n",
       "      <td>24</td>\n",
       "      <td>15</td>\n",
       "      <td>39</td>\n",
       "      <td>86.67</td>\n",
       "    </tr>\n",
       "    <tr>\n",
       "      <th>1</th>\n",
       "      <td>AJITH TA</td>\n",
       "      <td>M</td>\n",
       "      <td>25</td>\n",
       "      <td>15</td>\n",
       "      <td>40</td>\n",
       "      <td>88.89</td>\n",
       "    </tr>\n",
       "    <tr>\n",
       "      <th>2</th>\n",
       "      <td>AKSHAY A</td>\n",
       "      <td>M</td>\n",
       "      <td>24</td>\n",
       "      <td>18</td>\n",
       "      <td>42</td>\n",
       "      <td>93.33</td>\n",
       "    </tr>\n",
       "    <tr>\n",
       "      <th>3</th>\n",
       "      <td>ALEN TOM SHAJI</td>\n",
       "      <td>M</td>\n",
       "      <td>25</td>\n",
       "      <td>18</td>\n",
       "      <td>43</td>\n",
       "      <td>95.56</td>\n",
       "    </tr>\n",
       "    <tr>\n",
       "      <th>4</th>\n",
       "      <td>ANAND ANIL</td>\n",
       "      <td>M</td>\n",
       "      <td>25</td>\n",
       "      <td>16</td>\n",
       "      <td>41</td>\n",
       "      <td>91.11</td>\n",
       "    </tr>\n",
       "  </tbody>\n",
       "</table>\n",
       "</div>"
      ],
      "text/plain": [
       "                NAME GENDER  PYTHON  STATS  TOTAL  PERCENTAGE\n",
       "0  ABHIMANYU RAVI CR      M      24     15     39       86.67\n",
       "1           AJITH TA      M      25     15     40       88.89\n",
       "2           AKSHAY A      M      24     18     42       93.33\n",
       "3     ALEN TOM SHAJI      M      25     18     43       95.56\n",
       "4         ANAND ANIL      M      25     16     41       91.11"
      ]
     },
     "execution_count": 2,
     "metadata": {},
     "output_type": "execute_result"
    }
   ],
   "source": [
    "student={'NAME':['ABHIMANYU RAVI CR','AJITH TA','AKSHAY A','ALEN TOM SHAJI','ANAND ANIL','ANSAL MT','ARUM KUMAR N','ASWIN CS','DHAVOOD NASSAR','HARIPRIYA KU','INDRAJITH KK','JISHNU VS','JISHNURAJ MP','JOPIKA','KEERTHI RAVI','KIRAN KS','LUBNA NIZAR','MANCY MAMACHAN','MERLIN PM','MOHAMMED SAFEER','MUHAMMED SIRAJ K','NANDAKRISHNAN N','NAJMI JAHANGIR','NIDA MUSTHAFA','RAHUL N','RAMSHAD TA','SANIKA SAJEEVAN','SANOY KM','SHAMMAS NM','SMIJITH CS','SNEHA SHAJI','SOORYA S NAIR','SWATHI AS','VIDHYA AG','VISHNU MUKUNDAN'],'GENDER':['M','M','M','M','M','M','M','M','M','F','M','M','M','F','F','M','F','F','F','M','M','M','F','F','M','M','F','M','M','M','F','F','F','F','M'],'PYTHON':[24,25,24,25,25,25,24,24,24,24,25,25,23,24,25,24,24,25,24,24,24,0,25,25,25,25,25,24,24,24,22,24,25,23,24],'STATS':[15,15,18,18,16,19,15,13,16,17,13,15,15,13,16,20,16,16,16,15,19,0,13,15,16,19,17,15,17,13,13,16,16,17,17],'TOTAL':[39,40,42,43,41,44,39,37,40,41,38,40,38,37,41,44,40,41,40,39,43,0,38,40,41,44,42,39,41,37,35,40,41,40,41],'PERCENTAGE':[86.67,88.89,93.33,95.56,91.11,97.78,86.67,82.22,88.89,91.11,84.44,88.89,84.44,82.22,91.11,97.78,88.89,91.11,88.89,86.67,95.66,0,84.44,88.89,91.11,97.78,93.33,86.67,91.11,82.22,77.78,88.89,91.11,88.89,91.11]}\n",
    "df=pd.DataFrame(student)\n",
    "df.head()"
   ]
  },
  {
   "cell_type": "code",
   "execution_count": 3,
   "id": "5f84f4cd",
   "metadata": {},
   "outputs": [
    {
     "data": {
      "text/plain": [
       "M    22\n",
       "F    13\n",
       "Name: GENDER, dtype: int64"
      ]
     },
     "execution_count": 3,
     "metadata": {},
     "output_type": "execute_result"
    }
   ],
   "source": [
    "df.GENDER.value_counts()"
   ]
  },
  {
   "cell_type": "code",
   "execution_count": 4,
   "id": "73ccc651",
   "metadata": {},
   "outputs": [
    {
     "data": {
      "text/plain": [
       "44"
      ]
     },
     "execution_count": 4,
     "metadata": {},
     "output_type": "execute_result"
    }
   ],
   "source": [
    "df.TOTAL.max()"
   ]
  },
  {
   "cell_type": "code",
   "execution_count": 5,
   "id": "ecf3a15e",
   "metadata": {},
   "outputs": [
    {
     "data": {
      "text/html": [
       "<div>\n",
       "<style scoped>\n",
       "    .dataframe tbody tr th:only-of-type {\n",
       "        vertical-align: middle;\n",
       "    }\n",
       "\n",
       "    .dataframe tbody tr th {\n",
       "        vertical-align: top;\n",
       "    }\n",
       "\n",
       "    .dataframe thead th {\n",
       "        text-align: right;\n",
       "    }\n",
       "</style>\n",
       "<table border=\"1\" class=\"dataframe\">\n",
       "  <thead>\n",
       "    <tr style=\"text-align: right;\">\n",
       "      <th></th>\n",
       "      <th>NAME</th>\n",
       "      <th>GENDER</th>\n",
       "      <th>PYTHON</th>\n",
       "      <th>STATS</th>\n",
       "      <th>TOTAL</th>\n",
       "      <th>PERCENTAGE</th>\n",
       "    </tr>\n",
       "  </thead>\n",
       "  <tbody>\n",
       "    <tr>\n",
       "      <th>5</th>\n",
       "      <td>ANSAL MT</td>\n",
       "      <td>M</td>\n",
       "      <td>25</td>\n",
       "      <td>19</td>\n",
       "      <td>44</td>\n",
       "      <td>97.78</td>\n",
       "    </tr>\n",
       "    <tr>\n",
       "      <th>15</th>\n",
       "      <td>KIRAN KS</td>\n",
       "      <td>M</td>\n",
       "      <td>24</td>\n",
       "      <td>20</td>\n",
       "      <td>44</td>\n",
       "      <td>97.78</td>\n",
       "    </tr>\n",
       "    <tr>\n",
       "      <th>25</th>\n",
       "      <td>RAMSHAD TA</td>\n",
       "      <td>M</td>\n",
       "      <td>25</td>\n",
       "      <td>19</td>\n",
       "      <td>44</td>\n",
       "      <td>97.78</td>\n",
       "    </tr>\n",
       "  </tbody>\n",
       "</table>\n",
       "</div>"
      ],
      "text/plain": [
       "          NAME GENDER  PYTHON  STATS  TOTAL  PERCENTAGE\n",
       "5     ANSAL MT      M      25     19     44       97.78\n",
       "15    KIRAN KS      M      24     20     44       97.78\n",
       "25  RAMSHAD TA      M      25     19     44       97.78"
      ]
     },
     "execution_count": 5,
     "metadata": {},
     "output_type": "execute_result"
    }
   ],
   "source": [
    "df[df['TOTAL']==df['TOTAL'].max()]"
   ]
  },
  {
   "cell_type": "code",
   "execution_count": 6,
   "id": "7de809a5",
   "metadata": {},
   "outputs": [
    {
     "data": {
      "text/html": [
       "<div>\n",
       "<style scoped>\n",
       "    .dataframe tbody tr th:only-of-type {\n",
       "        vertical-align: middle;\n",
       "    }\n",
       "\n",
       "    .dataframe tbody tr th {\n",
       "        vertical-align: top;\n",
       "    }\n",
       "\n",
       "    .dataframe thead th {\n",
       "        text-align: right;\n",
       "    }\n",
       "</style>\n",
       "<table border=\"1\" class=\"dataframe\">\n",
       "  <thead>\n",
       "    <tr style=\"text-align: right;\">\n",
       "      <th></th>\n",
       "      <th>NAME</th>\n",
       "      <th>GENDER</th>\n",
       "      <th>PYTHON</th>\n",
       "      <th>STATS</th>\n",
       "      <th>TOTAL</th>\n",
       "      <th>PERCENTAGE</th>\n",
       "    </tr>\n",
       "  </thead>\n",
       "  <tbody>\n",
       "    <tr>\n",
       "      <th>21</th>\n",
       "      <td>NANDAKRISHNAN N</td>\n",
       "      <td>M</td>\n",
       "      <td>0</td>\n",
       "      <td>0</td>\n",
       "      <td>0</td>\n",
       "      <td>0.0</td>\n",
       "    </tr>\n",
       "  </tbody>\n",
       "</table>\n",
       "</div>"
      ],
      "text/plain": [
       "               NAME GENDER  PYTHON  STATS  TOTAL  PERCENTAGE\n",
       "21  NANDAKRISHNAN N      M       0      0      0         0.0"
      ]
     },
     "execution_count": 6,
     "metadata": {},
     "output_type": "execute_result"
    }
   ],
   "source": [
    "df[df['TOTAL']==df['TOTAL'].min()]"
   ]
  },
  {
   "cell_type": "code",
   "execution_count": 7,
   "id": "4d673adc",
   "metadata": {},
   "outputs": [
    {
     "data": {
      "text/plain": [
       "2             AKSHAY A\n",
       "3       ALEN TOM SHAJI\n",
       "4           ANAND ANIL\n",
       "5             ANSAL MT\n",
       "9         HARIPRIYA KU\n",
       "14        KEERTHI RAVI\n",
       "15            KIRAN KS\n",
       "17      MANCY MAMACHAN\n",
       "20    MUHAMMED SIRAJ K\n",
       "24             RAHUL N\n",
       "25          RAMSHAD TA\n",
       "26     SANIKA SAJEEVAN\n",
       "28          SHAMMAS NM\n",
       "32           SWATHI AS\n",
       "34     VISHNU MUKUNDAN\n",
       "Name: NAME, dtype: object"
      ]
     },
     "execution_count": 7,
     "metadata": {},
     "output_type": "execute_result"
    }
   ],
   "source": [
    "df['NAME'][df['PERCENTAGE']>90]"
   ]
  },
  {
   "cell_type": "code",
   "execution_count": 8,
   "id": "4704278b",
   "metadata": {},
   "outputs": [
    {
     "data": {
      "text/html": [
       "<div>\n",
       "<style scoped>\n",
       "    .dataframe tbody tr th:only-of-type {\n",
       "        vertical-align: middle;\n",
       "    }\n",
       "\n",
       "    .dataframe tbody tr th {\n",
       "        vertical-align: top;\n",
       "    }\n",
       "\n",
       "    .dataframe thead th {\n",
       "        text-align: right;\n",
       "    }\n",
       "</style>\n",
       "<table border=\"1\" class=\"dataframe\">\n",
       "  <thead>\n",
       "    <tr style=\"text-align: right;\">\n",
       "      <th></th>\n",
       "      <th>GENDER</th>\n",
       "      <th>PYTHON</th>\n",
       "      <th>STATS</th>\n",
       "      <th>TOTAL</th>\n",
       "      <th>PERCENTAGE</th>\n",
       "    </tr>\n",
       "    <tr>\n",
       "      <th>NAME</th>\n",
       "      <th></th>\n",
       "      <th></th>\n",
       "      <th></th>\n",
       "      <th></th>\n",
       "      <th></th>\n",
       "    </tr>\n",
       "  </thead>\n",
       "  <tbody>\n",
       "    <tr>\n",
       "      <th>ABHIMANYU RAVI CR</th>\n",
       "      <td>M</td>\n",
       "      <td>24</td>\n",
       "      <td>15</td>\n",
       "      <td>39</td>\n",
       "      <td>86.67</td>\n",
       "    </tr>\n",
       "    <tr>\n",
       "      <th>AJITH TA</th>\n",
       "      <td>M</td>\n",
       "      <td>25</td>\n",
       "      <td>15</td>\n",
       "      <td>40</td>\n",
       "      <td>88.89</td>\n",
       "    </tr>\n",
       "    <tr>\n",
       "      <th>AKSHAY A</th>\n",
       "      <td>M</td>\n",
       "      <td>24</td>\n",
       "      <td>18</td>\n",
       "      <td>42</td>\n",
       "      <td>93.33</td>\n",
       "    </tr>\n",
       "    <tr>\n",
       "      <th>ALEN TOM SHAJI</th>\n",
       "      <td>M</td>\n",
       "      <td>25</td>\n",
       "      <td>18</td>\n",
       "      <td>43</td>\n",
       "      <td>95.56</td>\n",
       "    </tr>\n",
       "    <tr>\n",
       "      <th>ANAND ANIL</th>\n",
       "      <td>M</td>\n",
       "      <td>25</td>\n",
       "      <td>16</td>\n",
       "      <td>41</td>\n",
       "      <td>91.11</td>\n",
       "    </tr>\n",
       "    <tr>\n",
       "      <th>ANSAL MT</th>\n",
       "      <td>M</td>\n",
       "      <td>25</td>\n",
       "      <td>19</td>\n",
       "      <td>44</td>\n",
       "      <td>97.78</td>\n",
       "    </tr>\n",
       "    <tr>\n",
       "      <th>ARUM KUMAR N</th>\n",
       "      <td>M</td>\n",
       "      <td>24</td>\n",
       "      <td>15</td>\n",
       "      <td>39</td>\n",
       "      <td>86.67</td>\n",
       "    </tr>\n",
       "    <tr>\n",
       "      <th>ASWIN CS</th>\n",
       "      <td>M</td>\n",
       "      <td>24</td>\n",
       "      <td>13</td>\n",
       "      <td>37</td>\n",
       "      <td>82.22</td>\n",
       "    </tr>\n",
       "    <tr>\n",
       "      <th>DHAVOOD NASSAR</th>\n",
       "      <td>M</td>\n",
       "      <td>24</td>\n",
       "      <td>16</td>\n",
       "      <td>40</td>\n",
       "      <td>88.89</td>\n",
       "    </tr>\n",
       "    <tr>\n",
       "      <th>HARIPRIYA KU</th>\n",
       "      <td>F</td>\n",
       "      <td>24</td>\n",
       "      <td>17</td>\n",
       "      <td>41</td>\n",
       "      <td>91.11</td>\n",
       "    </tr>\n",
       "    <tr>\n",
       "      <th>INDRAJITH KK</th>\n",
       "      <td>M</td>\n",
       "      <td>25</td>\n",
       "      <td>13</td>\n",
       "      <td>38</td>\n",
       "      <td>84.44</td>\n",
       "    </tr>\n",
       "    <tr>\n",
       "      <th>JISHNU VS</th>\n",
       "      <td>M</td>\n",
       "      <td>25</td>\n",
       "      <td>15</td>\n",
       "      <td>40</td>\n",
       "      <td>88.89</td>\n",
       "    </tr>\n",
       "    <tr>\n",
       "      <th>JISHNURAJ MP</th>\n",
       "      <td>M</td>\n",
       "      <td>23</td>\n",
       "      <td>15</td>\n",
       "      <td>38</td>\n",
       "      <td>84.44</td>\n",
       "    </tr>\n",
       "    <tr>\n",
       "      <th>JOPIKA</th>\n",
       "      <td>F</td>\n",
       "      <td>24</td>\n",
       "      <td>13</td>\n",
       "      <td>37</td>\n",
       "      <td>82.22</td>\n",
       "    </tr>\n",
       "    <tr>\n",
       "      <th>KEERTHI RAVI</th>\n",
       "      <td>F</td>\n",
       "      <td>25</td>\n",
       "      <td>16</td>\n",
       "      <td>41</td>\n",
       "      <td>91.11</td>\n",
       "    </tr>\n",
       "    <tr>\n",
       "      <th>KIRAN KS</th>\n",
       "      <td>M</td>\n",
       "      <td>24</td>\n",
       "      <td>20</td>\n",
       "      <td>44</td>\n",
       "      <td>97.78</td>\n",
       "    </tr>\n",
       "    <tr>\n",
       "      <th>LUBNA NIZAR</th>\n",
       "      <td>F</td>\n",
       "      <td>24</td>\n",
       "      <td>16</td>\n",
       "      <td>40</td>\n",
       "      <td>88.89</td>\n",
       "    </tr>\n",
       "    <tr>\n",
       "      <th>MANCY MAMACHAN</th>\n",
       "      <td>F</td>\n",
       "      <td>25</td>\n",
       "      <td>16</td>\n",
       "      <td>41</td>\n",
       "      <td>91.11</td>\n",
       "    </tr>\n",
       "    <tr>\n",
       "      <th>MERLIN PM</th>\n",
       "      <td>F</td>\n",
       "      <td>24</td>\n",
       "      <td>16</td>\n",
       "      <td>40</td>\n",
       "      <td>88.89</td>\n",
       "    </tr>\n",
       "    <tr>\n",
       "      <th>MOHAMMED SAFEER</th>\n",
       "      <td>M</td>\n",
       "      <td>24</td>\n",
       "      <td>15</td>\n",
       "      <td>39</td>\n",
       "      <td>86.67</td>\n",
       "    </tr>\n",
       "    <tr>\n",
       "      <th>MUHAMMED SIRAJ K</th>\n",
       "      <td>M</td>\n",
       "      <td>24</td>\n",
       "      <td>19</td>\n",
       "      <td>43</td>\n",
       "      <td>95.66</td>\n",
       "    </tr>\n",
       "    <tr>\n",
       "      <th>NANDAKRISHNAN N</th>\n",
       "      <td>M</td>\n",
       "      <td>0</td>\n",
       "      <td>0</td>\n",
       "      <td>0</td>\n",
       "      <td>0.00</td>\n",
       "    </tr>\n",
       "    <tr>\n",
       "      <th>NAJMI JAHANGIR</th>\n",
       "      <td>F</td>\n",
       "      <td>25</td>\n",
       "      <td>13</td>\n",
       "      <td>38</td>\n",
       "      <td>84.44</td>\n",
       "    </tr>\n",
       "    <tr>\n",
       "      <th>NIDA MUSTHAFA</th>\n",
       "      <td>F</td>\n",
       "      <td>25</td>\n",
       "      <td>15</td>\n",
       "      <td>40</td>\n",
       "      <td>88.89</td>\n",
       "    </tr>\n",
       "    <tr>\n",
       "      <th>RAHUL N</th>\n",
       "      <td>M</td>\n",
       "      <td>25</td>\n",
       "      <td>16</td>\n",
       "      <td>41</td>\n",
       "      <td>91.11</td>\n",
       "    </tr>\n",
       "    <tr>\n",
       "      <th>RAMSHAD TA</th>\n",
       "      <td>M</td>\n",
       "      <td>25</td>\n",
       "      <td>19</td>\n",
       "      <td>44</td>\n",
       "      <td>97.78</td>\n",
       "    </tr>\n",
       "    <tr>\n",
       "      <th>SANIKA SAJEEVAN</th>\n",
       "      <td>F</td>\n",
       "      <td>25</td>\n",
       "      <td>17</td>\n",
       "      <td>42</td>\n",
       "      <td>93.33</td>\n",
       "    </tr>\n",
       "    <tr>\n",
       "      <th>SANOY KM</th>\n",
       "      <td>M</td>\n",
       "      <td>24</td>\n",
       "      <td>15</td>\n",
       "      <td>39</td>\n",
       "      <td>86.67</td>\n",
       "    </tr>\n",
       "    <tr>\n",
       "      <th>SHAMMAS NM</th>\n",
       "      <td>M</td>\n",
       "      <td>24</td>\n",
       "      <td>17</td>\n",
       "      <td>41</td>\n",
       "      <td>91.11</td>\n",
       "    </tr>\n",
       "    <tr>\n",
       "      <th>SMIJITH CS</th>\n",
       "      <td>M</td>\n",
       "      <td>24</td>\n",
       "      <td>13</td>\n",
       "      <td>37</td>\n",
       "      <td>82.22</td>\n",
       "    </tr>\n",
       "    <tr>\n",
       "      <th>SNEHA SHAJI</th>\n",
       "      <td>F</td>\n",
       "      <td>22</td>\n",
       "      <td>13</td>\n",
       "      <td>35</td>\n",
       "      <td>77.78</td>\n",
       "    </tr>\n",
       "    <tr>\n",
       "      <th>SOORYA S NAIR</th>\n",
       "      <td>F</td>\n",
       "      <td>24</td>\n",
       "      <td>16</td>\n",
       "      <td>40</td>\n",
       "      <td>88.89</td>\n",
       "    </tr>\n",
       "    <tr>\n",
       "      <th>SWATHI AS</th>\n",
       "      <td>F</td>\n",
       "      <td>25</td>\n",
       "      <td>16</td>\n",
       "      <td>41</td>\n",
       "      <td>91.11</td>\n",
       "    </tr>\n",
       "    <tr>\n",
       "      <th>VIDHYA AG</th>\n",
       "      <td>F</td>\n",
       "      <td>23</td>\n",
       "      <td>17</td>\n",
       "      <td>40</td>\n",
       "      <td>88.89</td>\n",
       "    </tr>\n",
       "    <tr>\n",
       "      <th>VISHNU MUKUNDAN</th>\n",
       "      <td>M</td>\n",
       "      <td>24</td>\n",
       "      <td>17</td>\n",
       "      <td>41</td>\n",
       "      <td>91.11</td>\n",
       "    </tr>\n",
       "  </tbody>\n",
       "</table>\n",
       "</div>"
      ],
      "text/plain": [
       "                  GENDER  PYTHON  STATS  TOTAL  PERCENTAGE\n",
       "NAME                                                      \n",
       "ABHIMANYU RAVI CR      M      24     15     39       86.67\n",
       "AJITH TA               M      25     15     40       88.89\n",
       "AKSHAY A               M      24     18     42       93.33\n",
       "ALEN TOM SHAJI         M      25     18     43       95.56\n",
       "ANAND ANIL             M      25     16     41       91.11\n",
       "ANSAL MT               M      25     19     44       97.78\n",
       "ARUM KUMAR N           M      24     15     39       86.67\n",
       "ASWIN CS               M      24     13     37       82.22\n",
       "DHAVOOD NASSAR         M      24     16     40       88.89\n",
       "HARIPRIYA KU           F      24     17     41       91.11\n",
       "INDRAJITH KK           M      25     13     38       84.44\n",
       "JISHNU VS              M      25     15     40       88.89\n",
       "JISHNURAJ MP           M      23     15     38       84.44\n",
       "JOPIKA                 F      24     13     37       82.22\n",
       "KEERTHI RAVI           F      25     16     41       91.11\n",
       "KIRAN KS               M      24     20     44       97.78\n",
       "LUBNA NIZAR            F      24     16     40       88.89\n",
       "MANCY MAMACHAN         F      25     16     41       91.11\n",
       "MERLIN PM              F      24     16     40       88.89\n",
       "MOHAMMED SAFEER        M      24     15     39       86.67\n",
       "MUHAMMED SIRAJ K       M      24     19     43       95.66\n",
       "NANDAKRISHNAN N        M       0      0      0        0.00\n",
       "NAJMI JAHANGIR         F      25     13     38       84.44\n",
       "NIDA MUSTHAFA          F      25     15     40       88.89\n",
       "RAHUL N                M      25     16     41       91.11\n",
       "RAMSHAD TA             M      25     19     44       97.78\n",
       "SANIKA SAJEEVAN        F      25     17     42       93.33\n",
       "SANOY KM               M      24     15     39       86.67\n",
       "SHAMMAS NM             M      24     17     41       91.11\n",
       "SMIJITH CS             M      24     13     37       82.22\n",
       "SNEHA SHAJI            F      22     13     35       77.78\n",
       "SOORYA S NAIR          F      24     16     40       88.89\n",
       "SWATHI AS              F      25     16     41       91.11\n",
       "VIDHYA AG              F      23     17     40       88.89\n",
       "VISHNU MUKUNDAN        M      24     17     41       91.11"
      ]
     },
     "execution_count": 8,
     "metadata": {},
     "output_type": "execute_result"
    }
   ],
   "source": [
    "df1=df.set_index('NAME')\n",
    "df1"
   ]
  },
  {
   "cell_type": "code",
   "execution_count": 9,
   "id": "513eab13",
   "metadata": {},
   "outputs": [
    {
     "data": {
      "text/plain": [
       "NAME          SANIKA SAJEEVAN\n",
       "GENDER                      F\n",
       "PYTHON                     25\n",
       "STATS                      17\n",
       "TOTAL                      42\n",
       "PERCENTAGE              93.33\n",
       "Name: 26, dtype: object"
      ]
     },
     "execution_count": 9,
     "metadata": {},
     "output_type": "execute_result"
    }
   ],
   "source": [
    "df.loc[26]"
   ]
  },
  {
   "cell_type": "code",
   "execution_count": 10,
   "id": "fc5f2904",
   "metadata": {},
   "outputs": [
    {
     "data": {
      "text/plain": [
       "NAME          SMIJITH CS\n",
       "GENDER                 M\n",
       "PYTHON                24\n",
       "STATS                 13\n",
       "TOTAL                 37\n",
       "PERCENTAGE         82.22\n",
       "Name: 29, dtype: object"
      ]
     },
     "execution_count": 10,
     "metadata": {},
     "output_type": "execute_result"
    }
   ],
   "source": [
    "df.iloc[29]"
   ]
  },
  {
   "cell_type": "code",
   "execution_count": 11,
   "id": "93c4f250",
   "metadata": {},
   "outputs": [
    {
     "data": {
      "text/plain": [
       "GENDER            F\n",
       "PYTHON           24\n",
       "STATS            13\n",
       "TOTAL            37\n",
       "PERCENTAGE    82.22\n",
       "Name: JOPIKA, dtype: object"
      ]
     },
     "execution_count": 11,
     "metadata": {},
     "output_type": "execute_result"
    }
   ],
   "source": [
    "df1.loc[\"JOPIKA\"]"
   ]
  },
  {
   "cell_type": "code",
   "execution_count": 12,
   "id": "ca56e3d7",
   "metadata": {},
   "outputs": [
    {
     "data": {
      "text/plain": [
       "1            AJITH TA\n",
       "3      ALEN TOM SHAJI\n",
       "4          ANAND ANIL\n",
       "5            ANSAL MT\n",
       "10       INDRAJITH KK\n",
       "11          JISHNU VS\n",
       "14       KEERTHI RAVI\n",
       "17     MANCY MAMACHAN\n",
       "22     NAJMI JAHANGIR\n",
       "23      NIDA MUSTHAFA\n",
       "24            RAHUL N\n",
       "25         RAMSHAD TA\n",
       "26    SANIKA SAJEEVAN\n",
       "32          SWATHI AS\n",
       "Name: NAME, dtype: object"
      ]
     },
     "execution_count": 12,
     "metadata": {},
     "output_type": "execute_result"
    }
   ],
   "source": [
    "df['NAME'][df['PYTHON']==df['PYTHON'].max()]"
   ]
  },
  {
   "cell_type": "code",
   "execution_count": 13,
   "id": "52ad27db",
   "metadata": {},
   "outputs": [
    {
     "data": {
      "text/plain": [
       "15    KIRAN KS\n",
       "Name: NAME, dtype: object"
      ]
     },
     "execution_count": 13,
     "metadata": {},
     "output_type": "execute_result"
    }
   ],
   "source": [
    "df['NAME'][df['STATS']==df['STATS'].max()]"
   ]
  },
  {
   "cell_type": "code",
   "execution_count": 14,
   "id": "94da1442",
   "metadata": {},
   "outputs": [
    {
     "data": {
      "text/plain": [
       "86.73314285714288"
      ]
     },
     "execution_count": 14,
     "metadata": {},
     "output_type": "execute_result"
    }
   ],
   "source": [
    "df['PERCENTAGE'].mean()"
   ]
  },
  {
   "cell_type": "code",
   "execution_count": 15,
   "id": "6a49a0e9",
   "metadata": {},
   "outputs": [
    {
     "data": {
      "text/plain": [
       "39.02857142857143"
      ]
     },
     "execution_count": 15,
     "metadata": {},
     "output_type": "execute_result"
    }
   ],
   "source": [
    "df['TOTAL'].mean()"
   ]
  },
  {
   "cell_type": "code",
   "execution_count": 16,
   "id": "a9473825",
   "metadata": {},
   "outputs": [],
   "source": [
    "df.to_csv('student_mark.csv')"
   ]
  },
  {
   "cell_type": "code",
   "execution_count": null,
   "id": "7e0378ca",
   "metadata": {},
   "outputs": [],
   "source": []
  },
  {
   "cell_type": "code",
   "execution_count": null,
   "id": "a47ee356",
   "metadata": {},
   "outputs": [],
   "source": []
  },
  {
   "cell_type": "code",
   "execution_count": null,
   "id": "1fa1a3d1",
   "metadata": {},
   "outputs": [],
   "source": []
  }
 ],
 "metadata": {
  "kernelspec": {
   "display_name": "Python 3 (ipykernel)",
   "language": "python",
   "name": "python3"
  },
  "language_info": {
   "codemirror_mode": {
    "name": "ipython",
    "version": 3
   },
   "file_extension": ".py",
   "mimetype": "text/x-python",
   "name": "python",
   "nbconvert_exporter": "python",
   "pygments_lexer": "ipython3",
   "version": "3.9.13"
  }
 },
 "nbformat": 4,
 "nbformat_minor": 5
}
